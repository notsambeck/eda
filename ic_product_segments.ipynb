{
 "cells": [
  {
   "cell_type": "code",
   "execution_count": 2,
   "metadata": {},
   "outputs": [
    {
     "name": "stdout",
     "output_type": "stream",
     "text": [
      "Using matplotlib backend: nbAgg\n"
     ]
    }
   ],
   "source": [
    "import pandas as pd\n",
    "import sqlalchemy as sql\n",
    "import matplotlib.pyplot as plt\n",
    "%matplotlib\n",
    "\n",
    "from tqdm import tqdm"
   ]
  },
  {
   "cell_type": "markdown",
   "metadata": {},
   "source": [
    "# Data Dictionary\n",
    "- remember there is no data for last order per customer\n",
    "\n",
    "#### orders (415k rows): fact table, one record per order, includes useful time dimensions\n",
    "- order_id: order identifier\n",
    "- user_id: customer identifier\n",
    "- order_number: the order sequence number for this user (1 = first, n = nth)\n",
    "- order_dow: the day of the week the order was placed on\n",
    "- Order_hour_of_day: hour of day the order was placed\n",
    "- Days_since_prior_order: Number of days since that customer placed their previous order (NA for order_number = 1)\n",
    "\n",
    "#### order_products (3.9M rows): fact table, one record per order, per product\n",
    "_except for last order by a customer_\n",
    "- order_id: foreign key\n",
    "- product_id: foreign key\n",
    "- add_to_cart_order: order in which each product was added to cart\n",
    "- reordered: 1 if this product has been ordered by this user in the past, 0 otherwise\n",
    "\n",
    "#### products (50k rows): Dimension table for product info\n",
    "- product_id: product identifier\n",
    "- product_name: name of the product\n",
    "- aisle_id: foreign key\n",
    "- department_id: foreign key\n",
    "\n",
    "#### aisles (134 rows): Dimension table for aisle info\n",
    "- aisle_id: aisle identifier\n",
    "- aisle: the name of the aisle\n",
    "\n",
    "#### departments (21 rows): Dimension table for department info\n",
    "- department_id: department identifier\n",
    "- department: the name of the department\n"
   ]
  },
  {
   "cell_type": "code",
   "execution_count": 3,
   "metadata": {},
   "outputs": [],
   "source": [
    "engine = sql.create_engine('sqlite:///instacart.db')\n",
    "db = {}"
   ]
  },
  {
   "cell_type": "code",
   "execution_count": 4,
   "metadata": {},
   "outputs": [],
   "source": [
    "for table in ['orders', 'order_products', 'products', 'aisles', 'departments',]:\n",
    "    db[table] = pd.read_sql_table(table, engine, index_col=0,)"
   ]
  },
  {
   "cell_type": "code",
   "execution_count": 5,
   "metadata": {},
   "outputs": [],
   "source": [
    "# aliases\n",
    "orders = db['orders']\n",
    "orders.set_index('order_id', inplace=True)\n",
    "\n",
    "ops = db['order_products']   # default index vs. multi-index on order_id + add_to_cart_order\n",
    "\n",
    "products = db['products']\n",
    "del(products['index'])       # index is one off from xxxx_id, confusing\n",
    "products.set_index('product_id', inplace=True)\n",
    "\n",
    "del(db['departments']['index'])\n",
    "db['departments'].set_index('department_id', inplace=True)\n",
    "\n",
    "del(db['aisles']['index'])\n",
    "db['aisles'].set_index('aisle_id', inplace=True)"
   ]
  },
  {
   "cell_type": "code",
   "execution_count": 6,
   "metadata": {},
   "outputs": [],
   "source": [
    "products_by_aisle = products.groupby('aisle_id')\n",
    "products_by_dept = products.groupby('department_id')\n",
    "get_dept_from_aisle = products_by_aisle['department_id'].unique()"
   ]
  },
  {
   "cell_type": "code",
   "execution_count": null,
   "metadata": {},
   "outputs": [],
   "source": [
    "get_aisles_from_dept = products_by_dept['aisle_id'].unique()"
   ]
  },
  {
   "cell_type": "code",
   "execution_count": null,
   "metadata": {},
   "outputs": [],
   "source": [
    "# confirm correspondence:\n",
    "dept = 1\n",
    "for aisle in get_aisles_from_dept[dept]:\n",
    "    assert get_dept_from_aisle[aisle] == [dept]"
   ]
  },
  {
   "cell_type": "code",
   "execution_count": null,
   "metadata": {},
   "outputs": [],
   "source": [
    "len(orders)"
   ]
  },
  {
   "cell_type": "code",
   "execution_count": null,
   "metadata": {},
   "outputs": [],
   "source": [
    "orders.index[14]  # no data in ops"
   ]
  },
  {
   "cell_type": "code",
   "execution_count": null,
   "metadata": {},
   "outputs": [],
   "source": [
    "orders.head(16)"
   ]
  },
  {
   "cell_type": "code",
   "execution_count": null,
   "metadata": {},
   "outputs": [],
   "source": [
    "# note for me - series.value_counts() is nice\n",
    "ops.groupby('product_name').size().sort_values(ascending=False)[:10]\n",
    "ops.product_name.value_counts()[:10]"
   ]
  },
  {
   "cell_type": "markdown",
   "metadata": {},
   "source": [
    "# Product segmentation\n",
    "\n",
    "### Can products be separated into groups?\n",
    "- the store they come from\n",
    "- the customers who buy them\n",
    "- properties? i.e. name, department, aisle?\n",
    "- the products that they are co-ordered with\n",
    "\n",
    "Hypothesis 1:\n",
    "Orders come from discrete retailers; product assortment will be largely or entirely separate depending on store.\n",
    "\n",
    "Test method:\n",
    "Build a graph of all products. Products will be connected to other products that they share an order with, this will determine whether there are entirely disjoint sections of product graph"
   ]
  },
  {
   "cell_type": "code",
   "execution_count": 7,
   "metadata": {},
   "outputs": [],
   "source": [
    "ops = pd.merge(ops, products, left_on='product_id', right_index=True).sort_values('order_id')   \n",
    "# add product details to order_products: name, aisle_id, department_id "
   ]
  },
  {
   "cell_type": "code",
   "execution_count": 8,
   "metadata": {},
   "outputs": [
    {
     "data": {
      "text/plain": [
       "42814"
      ]
     },
     "execution_count": 8,
     "metadata": {},
     "output_type": "execute_result"
    }
   ],
   "source": [
    "real_products = set(ops.product_id.unique())   # there are products in db['products'] that are not in any orders\n",
    "len(real_products)"
   ]
  },
  {
   "cell_type": "code",
   "execution_count": 9,
   "metadata": {},
   "outputs": [],
   "source": [
    "products['product_id'] = products.index.values  # can't apply function to index, so duplicate it"
   ]
  },
  {
   "cell_type": "code",
   "execution_count": 10,
   "metadata": {},
   "outputs": [],
   "source": [
    "from collections import defaultdict\n",
    "\n",
    "'''\n",
    "ProductGraph provides a measure of distance between products based on number of\n",
    "orders in which A,B overlap.\n",
    "Note that this is NOT a measure of similarity, i.e. bananas and bag-of-bananas are\n",
    "likely far apart.\n",
    "Low distance <-> high likelihood of overlap\n",
    "'''\n",
    "\n",
    "class ProductGraph:\n",
    "    def __init__(self, order_records):\n",
    "        # order_records[i] => {items in order i}\n",
    "        # i.e. a groupby object\n",
    "        self.records = order_records.groupby('order_id')['product_id'].unique()\n",
    "        \n",
    "        # graph is from a product to other products that are connected by an order\n",
    "        # graph[A] = {B: number of orders containing both A & B}\n",
    "        self.graph = {i: defaultdict(int) for i in order_records.product_id.unique()}\n",
    "        \n",
    "        # order_records.product_id.value_counts()[]\n",
    "        self.orders_for_product = order_records.product_id.value_counts()\n",
    "        \n",
    "    def add_order_items(self, order_items):\n",
    "        # add a collection of items to network;\n",
    "        # each connection is incremented by one\n",
    "        # order n^2 but only has to run once...\n",
    "        for active_item in order_items:\n",
    "            for second_item in [item for item in order_items if item != active_item]:\n",
    "                self.graph[active_item][second_item] += 1\n",
    "                \n",
    "    def add_order_number(self, order_number):\n",
    "        order_items = self.records[order_number]\n",
    "        self.add_order_items(order_items)\n",
    "        \n",
    "    def build_graph(self):\n",
    "        for order_no in tqdm(self.records.index):\n",
    "            self.add_order_number(order_no)\n",
    "            \n",
    "    def find_all_connections_from(self, start_node):\n",
    "        # search on graph to find indirectly-connected products\n",
    "        q = []\n",
    "        q.append(start_node)\n",
    "        visited = set()\n",
    "        while q:\n",
    "            node = q.pop()  # node we are on\n",
    "            if node in visited:\n",
    "                continue\n",
    "            else:\n",
    "                visited.add(node)\n",
    "                for key in self.graph[node].keys():\n",
    "                    q.append(key)\n",
    "        return visited\n",
    "        \n",
    "    def distance(self, node_1, node_2, oddity=.75):\n",
    "        # distance from 1 to 2, with oddity factor so it's not all bananas\n",
    "        # increasing oddity devalues popular products\n",
    "        # not normalized\n",
    "        connections = self.graph[node_1][node_2]\n",
    "        if node_1 == node_2:\n",
    "            return 0\n",
    "        elif connections:\n",
    "            pop = self.orders_for_product[node_2]**oddity\n",
    "            return pop / connections\n",
    "        else:\n",
    "            return 1000"
   ]
  },
  {
   "cell_type": "code",
   "execution_count": 11,
   "metadata": {},
   "outputs": [],
   "source": [
    "g = ProductGraph(ops)  # slow-ish, runs 2 groupby operations "
   ]
  },
  {
   "cell_type": "code",
   "execution_count": 12,
   "metadata": {},
   "outputs": [
    {
     "name": "stderr",
     "output_type": "stream",
     "text": [
      "100%|██████████| 389772/389772 [01:01<00:00, 6293.16it/s]\n"
     ]
    }
   ],
   "source": [
    "g.build_graph()"
   ]
  },
  {
   "cell_type": "code",
   "execution_count": null,
   "metadata": {},
   "outputs": [],
   "source": [
    "# time savers while rebuilding\n",
    "# g.graph = save\n",
    "# save = g.graph"
   ]
  },
  {
   "cell_type": "markdown",
   "metadata": {},
   "source": [
    "### Hypothesis - discrete retailers:\n",
    "\n",
    "False. Graph of products is fully connected (at some depth), except for products that have only been ordered singly."
   ]
  },
  {
   "cell_type": "code",
   "execution_count": null,
   "metadata": {},
   "outputs": [],
   "source": [
    "connected_to_ = g.find_all_connections_from(2)"
   ]
  },
  {
   "cell_type": "code",
   "execution_count": null,
   "metadata": {},
   "outputs": [],
   "source": [
    "print(len(connected_to_))\n",
    "# fully connected graph except for products only purchased alone"
   ]
  },
  {
   "cell_type": "code",
   "execution_count": null,
   "metadata": {},
   "outputs": [],
   "source": [
    "singletons = [p for p in real_products if p not in connected_to_]"
   ]
  },
  {
   "cell_type": "code",
   "execution_count": null,
   "metadata": {},
   "outputs": [],
   "source": [
    "len(singletons)"
   ]
  },
  {
   "cell_type": "code",
   "execution_count": null,
   "metadata": {},
   "outputs": [],
   "source": [
    "connected_to_ = None\n",
    "products.loc[singletons[:10]]  # weirdo product"
   ]
  },
  {
   "cell_type": "markdown",
   "metadata": {},
   "source": [
    "### Now we have something like a distance metric!\n",
    "\n",
    "# Let's see how it does\n",
    "\n",
    "We can pick out the closest product to a basket. This may be a reasonable guess for something a customer would buy.\n",
    "\n",
    "### Hypothesis:\n",
    "\n",
    "The value of recommending a product is inversely proportional to the popularity of that product to some power <= 1.\n",
    "\n",
    "Bananas will often have the highest number of shared orders with a product, but it seems that bananas are not the best recommendation to make in all cases.\n",
    "\n",
    "Consider niche product X.\n",
    "Of a million people who bought bananas, some will buy X. This reflects more on the ubiquity of bananas than a strong affinity of banana buyers to product X.\n",
    "\n",
    "Although a percentage of buyers of X will go on to buy bananas, there are probably higher-value recommendations available."
   ]
  },
  {
   "cell_type": "code",
   "execution_count": null,
   "metadata": {},
   "outputs": [],
   "source": [
    "ops.product_id.value_counts()[:3]   # ID, number of orders"
   ]
  },
  {
   "cell_type": "code",
   "execution_count": null,
   "metadata": {},
   "outputs": [],
   "source": [
    "banana = 24852\n",
    "org_bananas = 13176\n",
    "org_strawberries = 21137\n",
    "almond_milk = 432\n",
    "products.product_name.loc[almond_milk]"
   ]
  },
  {
   "cell_type": "code",
   "execution_count": null,
   "metadata": {},
   "outputs": [],
   "source": [
    "g.distance(org_strawberries, org_bananas)"
   ]
  },
  {
   "cell_type": "code",
   "execution_count": null,
   "metadata": {},
   "outputs": [],
   "source": [
    "g.distance(org_strawberries, banana)"
   ]
  },
  {
   "cell_type": "code",
   "execution_count": null,
   "metadata": {},
   "outputs": [],
   "source": [
    "g.distance(org_bananas, almond_milk)"
   ]
  },
  {
   "cell_type": "code",
   "execution_count": null,
   "metadata": {},
   "outputs": [],
   "source": [
    "g.distance(banana, almond_milk)"
   ]
  },
  {
   "cell_type": "code",
   "execution_count": null,
   "metadata": {},
   "outputs": [],
   "source": [
    "g.distance(almond_milk, banana)"
   ]
  },
  {
   "cell_type": "code",
   "execution_count": null,
   "metadata": {},
   "outputs": [],
   "source": [
    "g.distance(almond_milk, 10957)"
   ]
  },
  {
   "cell_type": "code",
   "execution_count": 16,
   "metadata": {},
   "outputs": [],
   "source": [
    "top_products = ops.product_id.value_counts().keys()[:5000]  # most popular items"
   ]
  },
  {
   "cell_type": "code",
   "execution_count": null,
   "metadata": {},
   "outputs": [],
   "source": [
    "def recommend(order_items, dist=g.distance, options=top_products, oddity=.75):\n",
    "    '''\n",
    "    take a list of order items; compute distance using ProductGraph.distance\n",
    "    return most likely additions from top 1000 products\n",
    "    '''\n",
    "    best_item = None\n",
    "    best_score = 1000000\n",
    "    for option in options:\n",
    "        option_score = 0\n",
    "        for my_item in order_items:\n",
    "            if my_item == option:\n",
    "                option_score = pd.np.NaN\n",
    "            else:\n",
    "                score = dist(my_item, option, oddity=oddity)\n",
    "                option_score += score  # arbitrary similarity metric discounts popular products\n",
    "        if option_score < best_score:\n",
    "            best_score = option_score\n",
    "            best_item = option\n",
    "    return best_item, best_score"
   ]
  },
  {
   "cell_type": "code",
   "execution_count": null,
   "metadata": {},
   "outputs": [],
   "source": [
    "recommend(products_in_order[2])"
   ]
  },
  {
   "cell_type": "code",
   "execution_count": null,
   "metadata": {},
   "outputs": [],
   "source": [
    "def generate_recs(i):\n",
    "    try:\n",
    "        basket = g.records[orders.index[i]]\n",
    "        last = basket[-1]\n",
    "        basket = basket[:-1]\n",
    "    except KeyError:\n",
    "        print('order_id {} exists in orders.index, but contains no items. \\n'.format(orders.index[i]))\n",
    "        return None\n",
    "    \n",
    "    print('\\n' + '+ ' * 30 + '\\n')\n",
    "    print(products.loc[basket].product_name)\n",
    "\n",
    "    for oddity in [0, .5, .7, 1, 1.5]:\n",
    "        print('\\n oddity factor: {}'.format(oddity))\n",
    "        item, score = recommend(basket, oddity=oddity)\n",
    "        if item:\n",
    "            print(products.loc[item].product_name)\n",
    "        \n",
    "    print()\n",
    "    print('actual final item: {}'.format(products.loc[last].product_name))\n",
    "        \n",
    "    print()\n",
    "    return item"
   ]
  },
  {
   "cell_type": "code",
   "execution_count": null,
   "metadata": {
    "scrolled": true
   },
   "outputs": [],
   "source": [
    "for _ in range(5):\n",
    "    o = pd.np.random.randint(0, 100000)\n",
    "    generate_recs(o)"
   ]
  },
  {
   "cell_type": "markdown",
   "metadata": {},
   "source": [
    "### Re: Hypothesis\n",
    "\n",
    "There is some support for an inverse factor for item popularity, so let's stick with that."
   ]
  },
  {
   "cell_type": "markdown",
   "metadata": {},
   "source": [
    "# Use distance metric to find a coordinate system for products\n",
    "\n",
    "By finding distance from a subset of products to all products, we will have multiple 'dimensions' that could be used for PCA, finding a coordinate system for products."
   ]
  },
  {
   "cell_type": "code",
   "execution_count": 13,
   "metadata": {},
   "outputs": [],
   "source": [
    "mask = [True if p in real_products else False for p in products.index]"
   ]
  },
  {
   "cell_type": "code",
   "execution_count": 14,
   "metadata": {},
   "outputs": [
    {
     "data": {
      "text/plain": [
       "42814"
      ]
     },
     "execution_count": 14,
     "metadata": {},
     "output_type": "execute_result"
    }
   ],
   "source": [
    "len(products[mask])"
   ]
  },
  {
   "cell_type": "code",
   "execution_count": 15,
   "metadata": {},
   "outputs": [],
   "source": [
    "real_products = products[mask].copy()"
   ]
  },
  {
   "cell_type": "code",
   "execution_count": 24,
   "metadata": {},
   "outputs": [
    {
     "name": "stderr",
     "output_type": "stream",
     "text": [
      "100%|██████████| 300/300 [00:57<00:00,  5.23it/s]\n"
     ]
    }
   ],
   "source": [
    "rows = len(real_products)\n",
    "\n",
    "for col in tqdm(range(300)):\n",
    "    prod_index = pd.np.random.randint(0, len(top_products))\n",
    "    product = top_products[prod_index]\n",
    "    col_name = 'dist_{}'.format(str(product))\n",
    "    \n",
    "    reference = real_products.product_id.loc[product]\n",
    "    d = [g.distance(real_products.index[i], reference)/1000 for i in range(rows)]\n",
    "    real_products[col_name] = d\n",
    "        "
   ]
  },
  {
   "cell_type": "code",
   "execution_count": 23,
   "metadata": {},
   "outputs": [
    {
     "data": {
      "text/plain": [
       "Index(['product_name', 'aisle_id', 'department_id', 'product_id', 'dist_45938',\n",
       "       'dist_24413', 'dist_16254', 'dist_9203', 'dist_6510', 'dist_17313',\n",
       "       ...\n",
       "       'dist_20842', 'dist_43087', 'dist_17619', 'dist_8382', 'dist_46984',\n",
       "       'dist_3874', 'dist_8803', 'dist_8574', 'dist_33957', 'dist_34262'],\n",
       "      dtype='object', length=577)"
      ]
     },
     "execution_count": 23,
     "metadata": {},
     "output_type": "execute_result"
    }
   ],
   "source": [
    "real_products.columns"
   ]
  },
  {
   "cell_type": "markdown",
   "metadata": {},
   "source": [
    "# Now we have distances (from arbitrary points)\n",
    "\n",
    "Can we use PCA to find a coordinate system that describes the space?"
   ]
  },
  {
   "cell_type": "code",
   "execution_count": 25,
   "metadata": {},
   "outputs": [],
   "source": [
    "from sklearn.decomposition import PCA"
   ]
  },
  {
   "cell_type": "code",
   "execution_count": 26,
   "metadata": {},
   "outputs": [],
   "source": [
    "pca = PCA(n_components=10)"
   ]
  },
  {
   "cell_type": "code",
   "execution_count": 27,
   "metadata": {},
   "outputs": [
    {
     "data": {
      "text/plain": [
       "PCA(copy=True, iterated_power='auto', n_components=10, random_state=None,\n",
       "  svd_solver='auto', tol=0.0, whiten=False)"
      ]
     },
     "execution_count": 27,
     "metadata": {},
     "output_type": "execute_result"
    }
   ],
   "source": [
    "pca.fit(real_products.iloc[:, 5:].values)"
   ]
  },
  {
   "cell_type": "code",
   "execution_count": 51,
   "metadata": {},
   "outputs": [
    {
     "data": {
      "text/plain": [
       "(42814, 10)"
      ]
     },
     "execution_count": 51,
     "metadata": {},
     "output_type": "execute_result"
    }
   ],
   "source": [
    "xyz = pca.transform(real_products.iloc[:, 5:].values)\n",
    "xyz.shape"
   ]
  },
  {
   "cell_type": "code",
   "execution_count": 29,
   "metadata": {},
   "outputs": [
    {
     "data": {
      "text/plain": [
       "department_id\n",
       "1              frozen\n",
       "2               other\n",
       "3              bakery\n",
       "4             produce\n",
       "5             alcohol\n",
       "6       international\n",
       "7           beverages\n",
       "8                pets\n",
       "9     dry goods pasta\n",
       "10               bulk\n",
       "11      personal care\n",
       "12       meat seafood\n",
       "13             pantry\n",
       "14          breakfast\n",
       "15       canned goods\n",
       "16         dairy eggs\n",
       "17          household\n",
       "18             babies\n",
       "19             snacks\n",
       "20               deli\n",
       "21            missing\n",
       "Name: department, dtype: object"
      ]
     },
     "execution_count": 29,
     "metadata": {},
     "output_type": "execute_result"
    }
   ],
   "source": [
    "db['departments'].department"
   ]
  },
  {
   "cell_type": "code",
   "execution_count": 32,
   "metadata": {},
   "outputs": [
    {
     "data": {
      "application/javascript": [
       "/* Put everything inside the global mpl namespace */\n",
       "window.mpl = {};\n",
       "\n",
       "\n",
       "mpl.get_websocket_type = function() {\n",
       "    if (typeof(WebSocket) !== 'undefined') {\n",
       "        return WebSocket;\n",
       "    } else if (typeof(MozWebSocket) !== 'undefined') {\n",
       "        return MozWebSocket;\n",
       "    } else {\n",
       "        alert('Your browser does not have WebSocket support.' +\n",
       "              'Please try Chrome, Safari or Firefox ≥ 6. ' +\n",
       "              'Firefox 4 and 5 are also supported but you ' +\n",
       "              'have to enable WebSockets in about:config.');\n",
       "    };\n",
       "}\n",
       "\n",
       "mpl.figure = function(figure_id, websocket, ondownload, parent_element) {\n",
       "    this.id = figure_id;\n",
       "\n",
       "    this.ws = websocket;\n",
       "\n",
       "    this.supports_binary = (this.ws.binaryType != undefined);\n",
       "\n",
       "    if (!this.supports_binary) {\n",
       "        var warnings = document.getElementById(\"mpl-warnings\");\n",
       "        if (warnings) {\n",
       "            warnings.style.display = 'block';\n",
       "            warnings.textContent = (\n",
       "                \"This browser does not support binary websocket messages. \" +\n",
       "                    \"Performance may be slow.\");\n",
       "        }\n",
       "    }\n",
       "\n",
       "    this.imageObj = new Image();\n",
       "\n",
       "    this.context = undefined;\n",
       "    this.message = undefined;\n",
       "    this.canvas = undefined;\n",
       "    this.rubberband_canvas = undefined;\n",
       "    this.rubberband_context = undefined;\n",
       "    this.format_dropdown = undefined;\n",
       "\n",
       "    this.image_mode = 'full';\n",
       "\n",
       "    this.root = $('<div/>');\n",
       "    this._root_extra_style(this.root)\n",
       "    this.root.attr('style', 'display: inline-block');\n",
       "\n",
       "    $(parent_element).append(this.root);\n",
       "\n",
       "    this._init_header(this);\n",
       "    this._init_canvas(this);\n",
       "    this._init_toolbar(this);\n",
       "\n",
       "    var fig = this;\n",
       "\n",
       "    this.waiting = false;\n",
       "\n",
       "    this.ws.onopen =  function () {\n",
       "            fig.send_message(\"supports_binary\", {value: fig.supports_binary});\n",
       "            fig.send_message(\"send_image_mode\", {});\n",
       "            if (mpl.ratio != 1) {\n",
       "                fig.send_message(\"set_dpi_ratio\", {'dpi_ratio': mpl.ratio});\n",
       "            }\n",
       "            fig.send_message(\"refresh\", {});\n",
       "        }\n",
       "\n",
       "    this.imageObj.onload = function() {\n",
       "            if (fig.image_mode == 'full') {\n",
       "                // Full images could contain transparency (where diff images\n",
       "                // almost always do), so we need to clear the canvas so that\n",
       "                // there is no ghosting.\n",
       "                fig.context.clearRect(0, 0, fig.canvas.width, fig.canvas.height);\n",
       "            }\n",
       "            fig.context.drawImage(fig.imageObj, 0, 0);\n",
       "        };\n",
       "\n",
       "    this.imageObj.onunload = function() {\n",
       "        fig.ws.close();\n",
       "    }\n",
       "\n",
       "    this.ws.onmessage = this._make_on_message_function(this);\n",
       "\n",
       "    this.ondownload = ondownload;\n",
       "}\n",
       "\n",
       "mpl.figure.prototype._init_header = function() {\n",
       "    var titlebar = $(\n",
       "        '<div class=\"ui-dialog-titlebar ui-widget-header ui-corner-all ' +\n",
       "        'ui-helper-clearfix\"/>');\n",
       "    var titletext = $(\n",
       "        '<div class=\"ui-dialog-title\" style=\"width: 100%; ' +\n",
       "        'text-align: center; padding: 3px;\"/>');\n",
       "    titlebar.append(titletext)\n",
       "    this.root.append(titlebar);\n",
       "    this.header = titletext[0];\n",
       "}\n",
       "\n",
       "\n",
       "\n",
       "mpl.figure.prototype._canvas_extra_style = function(canvas_div) {\n",
       "\n",
       "}\n",
       "\n",
       "\n",
       "mpl.figure.prototype._root_extra_style = function(canvas_div) {\n",
       "\n",
       "}\n",
       "\n",
       "mpl.figure.prototype._init_canvas = function() {\n",
       "    var fig = this;\n",
       "\n",
       "    var canvas_div = $('<div/>');\n",
       "\n",
       "    canvas_div.attr('style', 'position: relative; clear: both; outline: 0');\n",
       "\n",
       "    function canvas_keyboard_event(event) {\n",
       "        return fig.key_event(event, event['data']);\n",
       "    }\n",
       "\n",
       "    canvas_div.keydown('key_press', canvas_keyboard_event);\n",
       "    canvas_div.keyup('key_release', canvas_keyboard_event);\n",
       "    this.canvas_div = canvas_div\n",
       "    this._canvas_extra_style(canvas_div)\n",
       "    this.root.append(canvas_div);\n",
       "\n",
       "    var canvas = $('<canvas/>');\n",
       "    canvas.addClass('mpl-canvas');\n",
       "    canvas.attr('style', \"left: 0; top: 0; z-index: 0; outline: 0\")\n",
       "\n",
       "    this.canvas = canvas[0];\n",
       "    this.context = canvas[0].getContext(\"2d\");\n",
       "\n",
       "    var backingStore = this.context.backingStorePixelRatio ||\n",
       "\tthis.context.webkitBackingStorePixelRatio ||\n",
       "\tthis.context.mozBackingStorePixelRatio ||\n",
       "\tthis.context.msBackingStorePixelRatio ||\n",
       "\tthis.context.oBackingStorePixelRatio ||\n",
       "\tthis.context.backingStorePixelRatio || 1;\n",
       "\n",
       "    mpl.ratio = (window.devicePixelRatio || 1) / backingStore;\n",
       "\n",
       "    var rubberband = $('<canvas/>');\n",
       "    rubberband.attr('style', \"position: absolute; left: 0; top: 0; z-index: 1;\")\n",
       "\n",
       "    var pass_mouse_events = true;\n",
       "\n",
       "    canvas_div.resizable({\n",
       "        start: function(event, ui) {\n",
       "            pass_mouse_events = false;\n",
       "        },\n",
       "        resize: function(event, ui) {\n",
       "            fig.request_resize(ui.size.width, ui.size.height);\n",
       "        },\n",
       "        stop: function(event, ui) {\n",
       "            pass_mouse_events = true;\n",
       "            fig.request_resize(ui.size.width, ui.size.height);\n",
       "        },\n",
       "    });\n",
       "\n",
       "    function mouse_event_fn(event) {\n",
       "        if (pass_mouse_events)\n",
       "            return fig.mouse_event(event, event['data']);\n",
       "    }\n",
       "\n",
       "    rubberband.mousedown('button_press', mouse_event_fn);\n",
       "    rubberband.mouseup('button_release', mouse_event_fn);\n",
       "    // Throttle sequential mouse events to 1 every 20ms.\n",
       "    rubberband.mousemove('motion_notify', mouse_event_fn);\n",
       "\n",
       "    rubberband.mouseenter('figure_enter', mouse_event_fn);\n",
       "    rubberband.mouseleave('figure_leave', mouse_event_fn);\n",
       "\n",
       "    canvas_div.on(\"wheel\", function (event) {\n",
       "        event = event.originalEvent;\n",
       "        event['data'] = 'scroll'\n",
       "        if (event.deltaY < 0) {\n",
       "            event.step = 1;\n",
       "        } else {\n",
       "            event.step = -1;\n",
       "        }\n",
       "        mouse_event_fn(event);\n",
       "    });\n",
       "\n",
       "    canvas_div.append(canvas);\n",
       "    canvas_div.append(rubberband);\n",
       "\n",
       "    this.rubberband = rubberband;\n",
       "    this.rubberband_canvas = rubberband[0];\n",
       "    this.rubberband_context = rubberband[0].getContext(\"2d\");\n",
       "    this.rubberband_context.strokeStyle = \"#000000\";\n",
       "\n",
       "    this._resize_canvas = function(width, height) {\n",
       "        // Keep the size of the canvas, canvas container, and rubber band\n",
       "        // canvas in synch.\n",
       "        canvas_div.css('width', width)\n",
       "        canvas_div.css('height', height)\n",
       "\n",
       "        canvas.attr('width', width * mpl.ratio);\n",
       "        canvas.attr('height', height * mpl.ratio);\n",
       "        canvas.attr('style', 'width: ' + width + 'px; height: ' + height + 'px;');\n",
       "\n",
       "        rubberband.attr('width', width);\n",
       "        rubberband.attr('height', height);\n",
       "    }\n",
       "\n",
       "    // Set the figure to an initial 600x600px, this will subsequently be updated\n",
       "    // upon first draw.\n",
       "    this._resize_canvas(600, 600);\n",
       "\n",
       "    // Disable right mouse context menu.\n",
       "    $(this.rubberband_canvas).bind(\"contextmenu\",function(e){\n",
       "        return false;\n",
       "    });\n",
       "\n",
       "    function set_focus () {\n",
       "        canvas.focus();\n",
       "        canvas_div.focus();\n",
       "    }\n",
       "\n",
       "    window.setTimeout(set_focus, 100);\n",
       "}\n",
       "\n",
       "mpl.figure.prototype._init_toolbar = function() {\n",
       "    var fig = this;\n",
       "\n",
       "    var nav_element = $('<div/>')\n",
       "    nav_element.attr('style', 'width: 100%');\n",
       "    this.root.append(nav_element);\n",
       "\n",
       "    // Define a callback function for later on.\n",
       "    function toolbar_event(event) {\n",
       "        return fig.toolbar_button_onclick(event['data']);\n",
       "    }\n",
       "    function toolbar_mouse_event(event) {\n",
       "        return fig.toolbar_button_onmouseover(event['data']);\n",
       "    }\n",
       "\n",
       "    for(var toolbar_ind in mpl.toolbar_items) {\n",
       "        var name = mpl.toolbar_items[toolbar_ind][0];\n",
       "        var tooltip = mpl.toolbar_items[toolbar_ind][1];\n",
       "        var image = mpl.toolbar_items[toolbar_ind][2];\n",
       "        var method_name = mpl.toolbar_items[toolbar_ind][3];\n",
       "\n",
       "        if (!name) {\n",
       "            // put a spacer in here.\n",
       "            continue;\n",
       "        }\n",
       "        var button = $('<button/>');\n",
       "        button.addClass('ui-button ui-widget ui-state-default ui-corner-all ' +\n",
       "                        'ui-button-icon-only');\n",
       "        button.attr('role', 'button');\n",
       "        button.attr('aria-disabled', 'false');\n",
       "        button.click(method_name, toolbar_event);\n",
       "        button.mouseover(tooltip, toolbar_mouse_event);\n",
       "\n",
       "        var icon_img = $('<span/>');\n",
       "        icon_img.addClass('ui-button-icon-primary ui-icon');\n",
       "        icon_img.addClass(image);\n",
       "        icon_img.addClass('ui-corner-all');\n",
       "\n",
       "        var tooltip_span = $('<span/>');\n",
       "        tooltip_span.addClass('ui-button-text');\n",
       "        tooltip_span.html(tooltip);\n",
       "\n",
       "        button.append(icon_img);\n",
       "        button.append(tooltip_span);\n",
       "\n",
       "        nav_element.append(button);\n",
       "    }\n",
       "\n",
       "    var fmt_picker_span = $('<span/>');\n",
       "\n",
       "    var fmt_picker = $('<select/>');\n",
       "    fmt_picker.addClass('mpl-toolbar-option ui-widget ui-widget-content');\n",
       "    fmt_picker_span.append(fmt_picker);\n",
       "    nav_element.append(fmt_picker_span);\n",
       "    this.format_dropdown = fmt_picker[0];\n",
       "\n",
       "    for (var ind in mpl.extensions) {\n",
       "        var fmt = mpl.extensions[ind];\n",
       "        var option = $(\n",
       "            '<option/>', {selected: fmt === mpl.default_extension}).html(fmt);\n",
       "        fmt_picker.append(option)\n",
       "    }\n",
       "\n",
       "    // Add hover states to the ui-buttons\n",
       "    $( \".ui-button\" ).hover(\n",
       "        function() { $(this).addClass(\"ui-state-hover\");},\n",
       "        function() { $(this).removeClass(\"ui-state-hover\");}\n",
       "    );\n",
       "\n",
       "    var status_bar = $('<span class=\"mpl-message\"/>');\n",
       "    nav_element.append(status_bar);\n",
       "    this.message = status_bar[0];\n",
       "}\n",
       "\n",
       "mpl.figure.prototype.request_resize = function(x_pixels, y_pixels) {\n",
       "    // Request matplotlib to resize the figure. Matplotlib will then trigger a resize in the client,\n",
       "    // which will in turn request a refresh of the image.\n",
       "    this.send_message('resize', {'width': x_pixels, 'height': y_pixels});\n",
       "}\n",
       "\n",
       "mpl.figure.prototype.send_message = function(type, properties) {\n",
       "    properties['type'] = type;\n",
       "    properties['figure_id'] = this.id;\n",
       "    this.ws.send(JSON.stringify(properties));\n",
       "}\n",
       "\n",
       "mpl.figure.prototype.send_draw_message = function() {\n",
       "    if (!this.waiting) {\n",
       "        this.waiting = true;\n",
       "        this.ws.send(JSON.stringify({type: \"draw\", figure_id: this.id}));\n",
       "    }\n",
       "}\n",
       "\n",
       "\n",
       "mpl.figure.prototype.handle_save = function(fig, msg) {\n",
       "    var format_dropdown = fig.format_dropdown;\n",
       "    var format = format_dropdown.options[format_dropdown.selectedIndex].value;\n",
       "    fig.ondownload(fig, format);\n",
       "}\n",
       "\n",
       "\n",
       "mpl.figure.prototype.handle_resize = function(fig, msg) {\n",
       "    var size = msg['size'];\n",
       "    if (size[0] != fig.canvas.width || size[1] != fig.canvas.height) {\n",
       "        fig._resize_canvas(size[0], size[1]);\n",
       "        fig.send_message(\"refresh\", {});\n",
       "    };\n",
       "}\n",
       "\n",
       "mpl.figure.prototype.handle_rubberband = function(fig, msg) {\n",
       "    var x0 = msg['x0'] / mpl.ratio;\n",
       "    var y0 = (fig.canvas.height - msg['y0']) / mpl.ratio;\n",
       "    var x1 = msg['x1'] / mpl.ratio;\n",
       "    var y1 = (fig.canvas.height - msg['y1']) / mpl.ratio;\n",
       "    x0 = Math.floor(x0) + 0.5;\n",
       "    y0 = Math.floor(y0) + 0.5;\n",
       "    x1 = Math.floor(x1) + 0.5;\n",
       "    y1 = Math.floor(y1) + 0.5;\n",
       "    var min_x = Math.min(x0, x1);\n",
       "    var min_y = Math.min(y0, y1);\n",
       "    var width = Math.abs(x1 - x0);\n",
       "    var height = Math.abs(y1 - y0);\n",
       "\n",
       "    fig.rubberband_context.clearRect(\n",
       "        0, 0, fig.canvas.width, fig.canvas.height);\n",
       "\n",
       "    fig.rubberband_context.strokeRect(min_x, min_y, width, height);\n",
       "}\n",
       "\n",
       "mpl.figure.prototype.handle_figure_label = function(fig, msg) {\n",
       "    // Updates the figure title.\n",
       "    fig.header.textContent = msg['label'];\n",
       "}\n",
       "\n",
       "mpl.figure.prototype.handle_cursor = function(fig, msg) {\n",
       "    var cursor = msg['cursor'];\n",
       "    switch(cursor)\n",
       "    {\n",
       "    case 0:\n",
       "        cursor = 'pointer';\n",
       "        break;\n",
       "    case 1:\n",
       "        cursor = 'default';\n",
       "        break;\n",
       "    case 2:\n",
       "        cursor = 'crosshair';\n",
       "        break;\n",
       "    case 3:\n",
       "        cursor = 'move';\n",
       "        break;\n",
       "    }\n",
       "    fig.rubberband_canvas.style.cursor = cursor;\n",
       "}\n",
       "\n",
       "mpl.figure.prototype.handle_message = function(fig, msg) {\n",
       "    fig.message.textContent = msg['message'];\n",
       "}\n",
       "\n",
       "mpl.figure.prototype.handle_draw = function(fig, msg) {\n",
       "    // Request the server to send over a new figure.\n",
       "    fig.send_draw_message();\n",
       "}\n",
       "\n",
       "mpl.figure.prototype.handle_image_mode = function(fig, msg) {\n",
       "    fig.image_mode = msg['mode'];\n",
       "}\n",
       "\n",
       "mpl.figure.prototype.updated_canvas_event = function() {\n",
       "    // Called whenever the canvas gets updated.\n",
       "    this.send_message(\"ack\", {});\n",
       "}\n",
       "\n",
       "// A function to construct a web socket function for onmessage handling.\n",
       "// Called in the figure constructor.\n",
       "mpl.figure.prototype._make_on_message_function = function(fig) {\n",
       "    return function socket_on_message(evt) {\n",
       "        if (evt.data instanceof Blob) {\n",
       "            /* FIXME: We get \"Resource interpreted as Image but\n",
       "             * transferred with MIME type text/plain:\" errors on\n",
       "             * Chrome.  But how to set the MIME type?  It doesn't seem\n",
       "             * to be part of the websocket stream */\n",
       "            evt.data.type = \"image/png\";\n",
       "\n",
       "            /* Free the memory for the previous frames */\n",
       "            if (fig.imageObj.src) {\n",
       "                (window.URL || window.webkitURL).revokeObjectURL(\n",
       "                    fig.imageObj.src);\n",
       "            }\n",
       "\n",
       "            fig.imageObj.src = (window.URL || window.webkitURL).createObjectURL(\n",
       "                evt.data);\n",
       "            fig.updated_canvas_event();\n",
       "            fig.waiting = false;\n",
       "            return;\n",
       "        }\n",
       "        else if (typeof evt.data === 'string' && evt.data.slice(0, 21) == \"data:image/png;base64\") {\n",
       "            fig.imageObj.src = evt.data;\n",
       "            fig.updated_canvas_event();\n",
       "            fig.waiting = false;\n",
       "            return;\n",
       "        }\n",
       "\n",
       "        var msg = JSON.parse(evt.data);\n",
       "        var msg_type = msg['type'];\n",
       "\n",
       "        // Call the  \"handle_{type}\" callback, which takes\n",
       "        // the figure and JSON message as its only arguments.\n",
       "        try {\n",
       "            var callback = fig[\"handle_\" + msg_type];\n",
       "        } catch (e) {\n",
       "            console.log(\"No handler for the '\" + msg_type + \"' message type: \", msg);\n",
       "            return;\n",
       "        }\n",
       "\n",
       "        if (callback) {\n",
       "            try {\n",
       "                // console.log(\"Handling '\" + msg_type + \"' message: \", msg);\n",
       "                callback(fig, msg);\n",
       "            } catch (e) {\n",
       "                console.log(\"Exception inside the 'handler_\" + msg_type + \"' callback:\", e, e.stack, msg);\n",
       "            }\n",
       "        }\n",
       "    };\n",
       "}\n",
       "\n",
       "// from http://stackoverflow.com/questions/1114465/getting-mouse-location-in-canvas\n",
       "mpl.findpos = function(e) {\n",
       "    //this section is from http://www.quirksmode.org/js/events_properties.html\n",
       "    var targ;\n",
       "    if (!e)\n",
       "        e = window.event;\n",
       "    if (e.target)\n",
       "        targ = e.target;\n",
       "    else if (e.srcElement)\n",
       "        targ = e.srcElement;\n",
       "    if (targ.nodeType == 3) // defeat Safari bug\n",
       "        targ = targ.parentNode;\n",
       "\n",
       "    // jQuery normalizes the pageX and pageY\n",
       "    // pageX,Y are the mouse positions relative to the document\n",
       "    // offset() returns the position of the element relative to the document\n",
       "    var x = e.pageX - $(targ).offset().left;\n",
       "    var y = e.pageY - $(targ).offset().top;\n",
       "\n",
       "    return {\"x\": x, \"y\": y};\n",
       "};\n",
       "\n",
       "/*\n",
       " * return a copy of an object with only non-object keys\n",
       " * we need this to avoid circular references\n",
       " * http://stackoverflow.com/a/24161582/3208463\n",
       " */\n",
       "function simpleKeys (original) {\n",
       "  return Object.keys(original).reduce(function (obj, key) {\n",
       "    if (typeof original[key] !== 'object')\n",
       "        obj[key] = original[key]\n",
       "    return obj;\n",
       "  }, {});\n",
       "}\n",
       "\n",
       "mpl.figure.prototype.mouse_event = function(event, name) {\n",
       "    var canvas_pos = mpl.findpos(event)\n",
       "\n",
       "    if (name === 'button_press')\n",
       "    {\n",
       "        this.canvas.focus();\n",
       "        this.canvas_div.focus();\n",
       "    }\n",
       "\n",
       "    var x = canvas_pos.x * mpl.ratio;\n",
       "    var y = canvas_pos.y * mpl.ratio;\n",
       "\n",
       "    this.send_message(name, {x: x, y: y, button: event.button,\n",
       "                             step: event.step,\n",
       "                             guiEvent: simpleKeys(event)});\n",
       "\n",
       "    /* This prevents the web browser from automatically changing to\n",
       "     * the text insertion cursor when the button is pressed.  We want\n",
       "     * to control all of the cursor setting manually through the\n",
       "     * 'cursor' event from matplotlib */\n",
       "    event.preventDefault();\n",
       "    return false;\n",
       "}\n",
       "\n",
       "mpl.figure.prototype._key_event_extra = function(event, name) {\n",
       "    // Handle any extra behaviour associated with a key event\n",
       "}\n",
       "\n",
       "mpl.figure.prototype.key_event = function(event, name) {\n",
       "\n",
       "    // Prevent repeat events\n",
       "    if (name == 'key_press')\n",
       "    {\n",
       "        if (event.which === this._key)\n",
       "            return;\n",
       "        else\n",
       "            this._key = event.which;\n",
       "    }\n",
       "    if (name == 'key_release')\n",
       "        this._key = null;\n",
       "\n",
       "    var value = '';\n",
       "    if (event.ctrlKey && event.which != 17)\n",
       "        value += \"ctrl+\";\n",
       "    if (event.altKey && event.which != 18)\n",
       "        value += \"alt+\";\n",
       "    if (event.shiftKey && event.which != 16)\n",
       "        value += \"shift+\";\n",
       "\n",
       "    value += 'k';\n",
       "    value += event.which.toString();\n",
       "\n",
       "    this._key_event_extra(event, name);\n",
       "\n",
       "    this.send_message(name, {key: value,\n",
       "                             guiEvent: simpleKeys(event)});\n",
       "    return false;\n",
       "}\n",
       "\n",
       "mpl.figure.prototype.toolbar_button_onclick = function(name) {\n",
       "    if (name == 'download') {\n",
       "        this.handle_save(this, null);\n",
       "    } else {\n",
       "        this.send_message(\"toolbar_button\", {name: name});\n",
       "    }\n",
       "};\n",
       "\n",
       "mpl.figure.prototype.toolbar_button_onmouseover = function(tooltip) {\n",
       "    this.message.textContent = tooltip;\n",
       "};\n",
       "mpl.toolbar_items = [[\"Home\", \"Reset original view\", \"fa fa-home icon-home\", \"home\"], [\"Back\", \"Back to  previous view\", \"fa fa-arrow-left icon-arrow-left\", \"back\"], [\"Forward\", \"Forward to next view\", \"fa fa-arrow-right icon-arrow-right\", \"forward\"], [\"\", \"\", \"\", \"\"], [\"Pan\", \"Pan axes with left mouse, zoom with right\", \"fa fa-arrows icon-move\", \"pan\"], [\"Zoom\", \"Zoom to rectangle\", \"fa fa-square-o icon-check-empty\", \"zoom\"], [\"\", \"\", \"\", \"\"], [\"Download\", \"Download plot\", \"fa fa-floppy-o icon-save\", \"download\"]];\n",
       "\n",
       "mpl.extensions = [\"eps\", \"pdf\", \"png\", \"ps\", \"raw\", \"svg\"];\n",
       "\n",
       "mpl.default_extension = \"png\";var comm_websocket_adapter = function(comm) {\n",
       "    // Create a \"websocket\"-like object which calls the given IPython comm\n",
       "    // object with the appropriate methods. Currently this is a non binary\n",
       "    // socket, so there is still some room for performance tuning.\n",
       "    var ws = {};\n",
       "\n",
       "    ws.close = function() {\n",
       "        comm.close()\n",
       "    };\n",
       "    ws.send = function(m) {\n",
       "        //console.log('sending', m);\n",
       "        comm.send(m);\n",
       "    };\n",
       "    // Register the callback with on_msg.\n",
       "    comm.on_msg(function(msg) {\n",
       "        //console.log('receiving', msg['content']['data'], msg);\n",
       "        // Pass the mpl event to the overriden (by mpl) onmessage function.\n",
       "        ws.onmessage(msg['content']['data'])\n",
       "    });\n",
       "    return ws;\n",
       "}\n",
       "\n",
       "mpl.mpl_figure_comm = function(comm, msg) {\n",
       "    // This is the function which gets called when the mpl process\n",
       "    // starts-up an IPython Comm through the \"matplotlib\" channel.\n",
       "\n",
       "    var id = msg.content.data.id;\n",
       "    // Get hold of the div created by the display call when the Comm\n",
       "    // socket was opened in Python.\n",
       "    var element = $(\"#\" + id);\n",
       "    var ws_proxy = comm_websocket_adapter(comm)\n",
       "\n",
       "    function ondownload(figure, format) {\n",
       "        window.open(figure.imageObj.src);\n",
       "    }\n",
       "\n",
       "    var fig = new mpl.figure(id, ws_proxy,\n",
       "                           ondownload,\n",
       "                           element.get(0));\n",
       "\n",
       "    // Call onopen now - mpl needs it, as it is assuming we've passed it a real\n",
       "    // web socket which is closed, not our websocket->open comm proxy.\n",
       "    ws_proxy.onopen();\n",
       "\n",
       "    fig.parent_element = element.get(0);\n",
       "    fig.cell_info = mpl.find_output_cell(\"<div id='\" + id + \"'></div>\");\n",
       "    if (!fig.cell_info) {\n",
       "        console.error(\"Failed to find cell for figure\", id, fig);\n",
       "        return;\n",
       "    }\n",
       "\n",
       "    var output_index = fig.cell_info[2]\n",
       "    var cell = fig.cell_info[0];\n",
       "\n",
       "};\n",
       "\n",
       "mpl.figure.prototype.handle_close = function(fig, msg) {\n",
       "    var width = fig.canvas.width/mpl.ratio\n",
       "    fig.root.unbind('remove')\n",
       "\n",
       "    // Update the output cell to use the data from the current canvas.\n",
       "    fig.push_to_output();\n",
       "    var dataURL = fig.canvas.toDataURL();\n",
       "    // Re-enable the keyboard manager in IPython - without this line, in FF,\n",
       "    // the notebook keyboard shortcuts fail.\n",
       "    IPython.keyboard_manager.enable()\n",
       "    $(fig.parent_element).html('<img src=\"' + dataURL + '\" width=\"' + width + '\">');\n",
       "    fig.close_ws(fig, msg);\n",
       "}\n",
       "\n",
       "mpl.figure.prototype.close_ws = function(fig, msg){\n",
       "    fig.send_message('closing', msg);\n",
       "    // fig.ws.close()\n",
       "}\n",
       "\n",
       "mpl.figure.prototype.push_to_output = function(remove_interactive) {\n",
       "    // Turn the data on the canvas into data in the output cell.\n",
       "    var width = this.canvas.width/mpl.ratio\n",
       "    var dataURL = this.canvas.toDataURL();\n",
       "    this.cell_info[1]['text/html'] = '<img src=\"' + dataURL + '\" width=\"' + width + '\">';\n",
       "}\n",
       "\n",
       "mpl.figure.prototype.updated_canvas_event = function() {\n",
       "    // Tell IPython that the notebook contents must change.\n",
       "    IPython.notebook.set_dirty(true);\n",
       "    this.send_message(\"ack\", {});\n",
       "    var fig = this;\n",
       "    // Wait a second, then push the new image to the DOM so\n",
       "    // that it is saved nicely (might be nice to debounce this).\n",
       "    setTimeout(function () { fig.push_to_output() }, 1000);\n",
       "}\n",
       "\n",
       "mpl.figure.prototype._init_toolbar = function() {\n",
       "    var fig = this;\n",
       "\n",
       "    var nav_element = $('<div/>')\n",
       "    nav_element.attr('style', 'width: 100%');\n",
       "    this.root.append(nav_element);\n",
       "\n",
       "    // Define a callback function for later on.\n",
       "    function toolbar_event(event) {\n",
       "        return fig.toolbar_button_onclick(event['data']);\n",
       "    }\n",
       "    function toolbar_mouse_event(event) {\n",
       "        return fig.toolbar_button_onmouseover(event['data']);\n",
       "    }\n",
       "\n",
       "    for(var toolbar_ind in mpl.toolbar_items){\n",
       "        var name = mpl.toolbar_items[toolbar_ind][0];\n",
       "        var tooltip = mpl.toolbar_items[toolbar_ind][1];\n",
       "        var image = mpl.toolbar_items[toolbar_ind][2];\n",
       "        var method_name = mpl.toolbar_items[toolbar_ind][3];\n",
       "\n",
       "        if (!name) { continue; };\n",
       "\n",
       "        var button = $('<button class=\"btn btn-default\" href=\"#\" title=\"' + name + '\"><i class=\"fa ' + image + ' fa-lg\"></i></button>');\n",
       "        button.click(method_name, toolbar_event);\n",
       "        button.mouseover(tooltip, toolbar_mouse_event);\n",
       "        nav_element.append(button);\n",
       "    }\n",
       "\n",
       "    // Add the status bar.\n",
       "    var status_bar = $('<span class=\"mpl-message\" style=\"text-align:right; float: right;\"/>');\n",
       "    nav_element.append(status_bar);\n",
       "    this.message = status_bar[0];\n",
       "\n",
       "    // Add the close button to the window.\n",
       "    var buttongrp = $('<div class=\"btn-group inline pull-right\"></div>');\n",
       "    var button = $('<button class=\"btn btn-mini btn-primary\" href=\"#\" title=\"Stop Interaction\"><i class=\"fa fa-power-off icon-remove icon-large\"></i></button>');\n",
       "    button.click(function (evt) { fig.handle_close(fig, {}); } );\n",
       "    button.mouseover('Stop Interaction', toolbar_mouse_event);\n",
       "    buttongrp.append(button);\n",
       "    var titlebar = this.root.find($('.ui-dialog-titlebar'));\n",
       "    titlebar.prepend(buttongrp);\n",
       "}\n",
       "\n",
       "mpl.figure.prototype._root_extra_style = function(el){\n",
       "    var fig = this\n",
       "    el.on(\"remove\", function(){\n",
       "\tfig.close_ws(fig, {});\n",
       "    });\n",
       "}\n",
       "\n",
       "mpl.figure.prototype._canvas_extra_style = function(el){\n",
       "    // this is important to make the div 'focusable\n",
       "    el.attr('tabindex', 0)\n",
       "    // reach out to IPython and tell the keyboard manager to turn it's self\n",
       "    // off when our div gets focus\n",
       "\n",
       "    // location in version 3\n",
       "    if (IPython.notebook.keyboard_manager) {\n",
       "        IPython.notebook.keyboard_manager.register_events(el);\n",
       "    }\n",
       "    else {\n",
       "        // location in version 2\n",
       "        IPython.keyboard_manager.register_events(el);\n",
       "    }\n",
       "\n",
       "}\n",
       "\n",
       "mpl.figure.prototype._key_event_extra = function(event, name) {\n",
       "    var manager = IPython.notebook.keyboard_manager;\n",
       "    if (!manager)\n",
       "        manager = IPython.keyboard_manager;\n",
       "\n",
       "    // Check for shift+enter\n",
       "    if (event.shiftKey && event.which == 13) {\n",
       "        this.canvas_div.blur();\n",
       "        event.shiftKey = false;\n",
       "        // Send a \"J\" for go to next cell\n",
       "        event.which = 74;\n",
       "        event.keyCode = 74;\n",
       "        manager.command_mode();\n",
       "        manager.handle_keydown(event);\n",
       "    }\n",
       "}\n",
       "\n",
       "mpl.figure.prototype.handle_save = function(fig, msg) {\n",
       "    fig.ondownload(fig, null);\n",
       "}\n",
       "\n",
       "\n",
       "mpl.find_output_cell = function(html_output) {\n",
       "    // Return the cell and output element which can be found *uniquely* in the notebook.\n",
       "    // Note - this is a bit hacky, but it is done because the \"notebook_saving.Notebook\"\n",
       "    // IPython event is triggered only after the cells have been serialised, which for\n",
       "    // our purposes (turning an active figure into a static one), is too late.\n",
       "    var cells = IPython.notebook.get_cells();\n",
       "    var ncells = cells.length;\n",
       "    for (var i=0; i<ncells; i++) {\n",
       "        var cell = cells[i];\n",
       "        if (cell.cell_type === 'code'){\n",
       "            for (var j=0; j<cell.output_area.outputs.length; j++) {\n",
       "                var data = cell.output_area.outputs[j];\n",
       "                if (data.data) {\n",
       "                    // IPython >= 3 moved mimebundle to data attribute of output\n",
       "                    data = data.data;\n",
       "                }\n",
       "                if (data['text/html'] == html_output) {\n",
       "                    return [cell, data, j];\n",
       "                }\n",
       "            }\n",
       "        }\n",
       "    }\n",
       "}\n",
       "\n",
       "// Register the function which deals with the matplotlib target/channel.\n",
       "// The kernel may be null if the page has been refreshed.\n",
       "if (IPython.notebook.kernel != null) {\n",
       "    IPython.notebook.kernel.comm_manager.register_target('matplotlib', mpl.mpl_figure_comm);\n",
       "}\n"
      ],
      "text/plain": [
       "<IPython.core.display.Javascript object>"
      ]
     },
     "metadata": {},
     "output_type": "display_data"
    },
    {
     "data": {
      "text/html": [
       "<img src=\"data:image/png;base64,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\" width=\"900\">"
      ],
      "text/plain": [
       "<IPython.core.display.HTML object>"
      ]
     },
     "metadata": {},
     "output_type": "display_data"
    },
    {
     "data": {
      "text/plain": [
       "<matplotlib.legend.Legend at 0x7eff85e0b0b8>"
      ]
     },
     "execution_count": 32,
     "metadata": {},
     "output_type": "execute_result"
    }
   ],
   "source": [
    "d1 = 3\n",
    "d2 = 5\n",
    "d3 = 4\n",
    "groups = [(d1, 'purple'), (d2, 'green'), (d3, 'gray')]\n",
    "\n",
    "num=40000\n",
    "rows = 4\n",
    "\n",
    "fig, ax = plt.subplots(nrows=rows)\n",
    "fig.set_size_inches(9, 12)\n",
    "\n",
    "for i in range(rows):\n",
    "    for series, color in groups:\n",
    "        mask = real_products.department_id == series\n",
    "        label = db['departments'].department.loc[series]\n",
    "        ax[i].scatter(x=xyz[mask.values][:num, i], y=xyz[mask.values][:num, i+1], \n",
    "                      c=color,\n",
    "                      alpha=.5,\n",
    "                      s=2,\n",
    "                      label=label,\n",
    "                      )\n",
    "    \n",
    "ax[0].legend()"
   ]
  },
  {
   "cell_type": "code",
   "execution_count": 72,
   "metadata": {},
   "outputs": [],
   "source": [
    "def get_distance(start_id, finish_id, v=0):\n",
    "    # get cartesian distance between two points in PCA space\n",
    "    if v:\n",
    "        print(real_products.product_name.loc[start_id])\n",
    "        print(real_products.product_name.loc[finish_id])\n",
    "    xyz1 = pca.transform(real_products.loc[start_id].values[5:].reshape(1, -1))\n",
    "    xyz2 = pca.transform(real_products.loc[finish_id].values[5:].reshape(1, -1))\n",
    "    diff = xyz1 - xyz2\n",
    "    return pd.np.dot(diff, diff.T)[0, 0]"
   ]
  },
  {
   "cell_type": "code",
   "execution_count": 86,
   "metadata": {},
   "outputs": [
    {
     "name": "stderr",
     "output_type": "stream",
     "text": [
      "  0%|          | 51/49000 [00:00<01:36, 509.12it/s]"
     ]
    },
    {
     "name": "stdout",
     "output_type": "stream",
     "text": [
      "Nacho Cheese White Bean Chips\n"
     ]
    },
    {
     "name": "stderr",
     "output_type": "stream",
     "text": [
      "100%|██████████| 49000/49000 [01:08<00:00, 717.58it/s]"
     ]
    },
    {
     "name": "stdout",
     "output_type": "stream",
     "text": [
      "Chocolate Sandwich Cookies 24.20700860882647 1\n",
      "All-Seasons Salt 12.493193811306114 2\n",
      "Robust Golden Unsweetened Oolong Tea 11.377591168205203 3\n",
      "Organic Turkey Burgers 4.960203826839986 23\n",
      "Local Living Butter Lettuce 2.4872450937321875 99\n",
      "Wild Blueberry All Natural Fruit Spread 2.46417835234108 149\n",
      "Gluten Free Oatmeal, Variety Pack 2.258488778961258 216\n",
      "Brooklyn Pizza Dough 1.3817647080902262 322\n",
      "Vegan Shells & Creamy Sauce Mac & Cheese Macaroni & Cheese Organic 0.9368674484418446 671\n",
      "Crunchy Kale, Naked 0.748803396769276 2087\n",
      "Organic Maple & Onion Baked Beans 0.5466978149620586 2116\n",
      "S'mores Ice Cream 0.3588471622963323 36029\n"
     ]
    },
    {
     "name": "stderr",
     "output_type": "stream",
     "text": [
      "\n"
     ]
    }
   ],
   "source": [
    "best_score = 100000\n",
    "best_product = None\n",
    "out = []\n",
    "\n",
    "item = 32\n",
    "print(real_products.product_name.loc[item])\n",
    "\n",
    "for i in tqdm(range(49000)):\n",
    "\n",
    "    if i == item:\n",
    "        continue\n",
    "    try: \n",
    "        score = get_distance(item, i)\n",
    "        if score < best_score:\n",
    "            best_score = score\n",
    "            best_product = i\n",
    "            out.append((best_product, best_score, i))\n",
    "    except KeyError:\n",
    "        continue\n",
    "        \n",
    "for el in out:\n",
    "    print(real_products.product_name.loc[el[0]], el[1], el[2])"
   ]
  },
  {
   "cell_type": "code",
   "execution_count": 131,
   "metadata": {},
   "outputs": [
    {
     "name": "stdout",
     "output_type": "stream",
     "text": [
      "White Pearl Onions\n",
      "Strawberries\n"
     ]
    },
    {
     "data": {
      "text/plain": [
       "756.8702571097732"
      ]
     },
     "execution_count": 131,
     "metadata": {},
     "output_type": "execute_result"
    }
   ],
   "source": [
    "get_distance(31, 16797, v=1)"
   ]
  },
  {
   "cell_type": "code",
   "execution_count": 194,
   "metadata": {},
   "outputs": [],
   "source": [
    "def vector_distance(item):\n",
    "    print('best match for:', real_products.product_name.loc[item])\n",
    "    ind = real_products.index.get_loc(item)\n",
    "    # print(ind)\n",
    "    my_coords = pca.transform(real_products.loc[item].values[5:].reshape(1, -1))\n",
    "    \n",
    "    diff = xyz - my_coords\n",
    "    scores = pd.np.linalg.norm(diff, axis=1)\n",
    "    scores[ind] = pd.np.Inf\n",
    "\n",
    "    best = pd.np.argmin(scores)\n",
    "    return real_products.product_name.iloc[best], real_products.index[best], pd.np.min(scores)"
   ]
  },
  {
   "cell_type": "code",
   "execution_count": 209,
   "metadata": {},
   "outputs": [
    {
     "name": "stdout",
     "output_type": "stream",
     "text": [
      "best match for: Smart Ones Classic Favorites Mini Rigatoni With Vodka Cream Sauce\n"
     ]
    },
    {
     "data": {
      "text/plain": [
       "('Chunky Blue Cheese Dressing', 34955, 0.376639527814384)"
      ]
     },
     "execution_count": 209,
     "metadata": {},
     "output_type": "execute_result"
    }
   ],
   "source": [
    "vector_distance(4)"
   ]
  },
  {
   "cell_type": "code",
   "execution_count": null,
   "metadata": {},
   "outputs": [],
   "source": []
  }
 ],
 "metadata": {
  "kernelspec": {
   "display_name": "Python 3",
   "language": "python",
   "name": "python3"
  },
  "language_info": {
   "codemirror_mode": {
    "name": "ipython",
    "version": 3
   },
   "file_extension": ".py",
   "mimetype": "text/x-python",
   "name": "python",
   "nbconvert_exporter": "python",
   "pygments_lexer": "ipython3",
   "version": "3.5.2"
  }
 },
 "nbformat": 4,
 "nbformat_minor": 2
}
