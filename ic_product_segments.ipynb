{
 "cells": [
  {
   "cell_type": "code",
   "execution_count": 1,
   "metadata": {},
   "outputs": [],
   "source": [
    "import pandas as pd\n",
    "import sqlalchemy as sql\n",
    "import matplotlib.pyplot as plt\n",
    "%matplotlib notebook\n",
    "\n",
    "from tqdm import tqdm"
   ]
  },
  {
   "cell_type": "markdown",
   "metadata": {},
   "source": [
    "# Data Dictionary\n",
    "- remember there is no data for last order per customer\n",
    "\n",
    "#### orders (415k rows): fact table, one record per order, includes useful time dimensions\n",
    "- order_id: order identifier\n",
    "- user_id: customer identifier\n",
    "- order_number: the order sequence number for this user (1 = first, n = nth)\n",
    "- order_dow: the day of the week the order was placed on\n",
    "- Order_hour_of_day: hour of day the order was placed\n",
    "- Days_since_prior_order: Number of days since that customer placed their previous order (NA for order_number = 1)\n",
    "\n",
    "#### order_products (3.9M rows): fact table, one record per order, per product\n",
    "_except for last order by a customer_\n",
    "- order_id: foreign key\n",
    "- product_id: foreign key\n",
    "- add_to_cart_order: order in which each product was added to cart\n",
    "- reordered: 1 if this product has been ordered by this user in the past, 0 otherwise\n",
    "\n",
    "#### products (50k rows): Dimension table for product info\n",
    "- product_id: product identifier\n",
    "- product_name: name of the product\n",
    "- aisle_id: foreign key\n",
    "- department_id: foreign key\n",
    "\n",
    "#### aisles (134 rows): Dimension table for aisle info\n",
    "- aisle_id: aisle identifier\n",
    "- aisle: the name of the aisle\n",
    "\n",
    "#### departments (21 rows): Dimension table for department info\n",
    "- department_id: department identifier\n",
    "- department: the name of the department\n"
   ]
  },
  {
   "cell_type": "code",
   "execution_count": 2,
   "metadata": {},
   "outputs": [],
   "source": [
    "engine = sql.create_engine('sqlite:///instacart.db')\n",
    "db = {}"
   ]
  },
  {
   "cell_type": "code",
   "execution_count": 3,
   "metadata": {},
   "outputs": [],
   "source": [
    "for table in ['orders', 'order_products', 'products', 'aisles', 'departments',]:\n",
    "    db[table] = pd.read_sql_table(table, engine, index_col=0,)"
   ]
  },
  {
   "cell_type": "code",
   "execution_count": 4,
   "metadata": {},
   "outputs": [],
   "source": [
    "# aliases\n",
    "orders = db['orders']\n",
    "orders.set_index('order_id', inplace=True)\n",
    "\n",
    "ops = db['order_products']   # default index vs. multi-index on order_id + add_to_cart_order\n",
    "\n",
    "products = db['products']\n",
    "del(products['index'])       # index is one off from xxxx_id, confusing\n",
    "products.set_index('product_id', inplace=True)\n",
    "\n",
    "del(db['departments']['index'])\n",
    "db['departments'].set_index('department_id', inplace=True)\n",
    "\n",
    "del(db['aisles']['index'])\n",
    "db['aisles'].set_index('aisle_id', inplace=True)"
   ]
  },
  {
   "cell_type": "code",
   "execution_count": 5,
   "metadata": {},
   "outputs": [],
   "source": [
    "products_by_aisle = products.groupby('aisle_id')\n",
    "products_by_dept = products.groupby('department_id')\n",
    "get_dept_from_aisle = products_by_aisle['department_id'].unique()"
   ]
  },
  {
   "cell_type": "code",
   "execution_count": 6,
   "metadata": {},
   "outputs": [],
   "source": [
    "get_aisles_from_dept = products_by_dept['aisle_id'].unique()"
   ]
  },
  {
   "cell_type": "code",
   "execution_count": 7,
   "metadata": {},
   "outputs": [],
   "source": [
    "# confirm correspondence:\n",
    "dept = 1\n",
    "for aisle in get_aisles_from_dept[dept]:\n",
    "    assert get_dept_from_aisle[aisle] == [dept]"
   ]
  },
  {
   "cell_type": "code",
   "execution_count": 8,
   "metadata": {},
   "outputs": [
    {
     "data": {
      "text/plain": [
       "414772"
      ]
     },
     "execution_count": 8,
     "metadata": {},
     "output_type": "execute_result"
    }
   ],
   "source": [
    "len(orders)"
   ]
  },
  {
   "cell_type": "code",
   "execution_count": 9,
   "metadata": {},
   "outputs": [
    {
     "data": {
      "text/plain": [
       "1492625"
      ]
     },
     "execution_count": 9,
     "metadata": {},
     "output_type": "execute_result"
    }
   ],
   "source": [
    "orders.index[14]  # no data in ops"
   ]
  },
  {
   "cell_type": "code",
   "execution_count": 12,
   "metadata": {},
   "outputs": [
    {
     "data": {
      "text/html": [
       "<div>\n",
       "<style scoped>\n",
       "    .dataframe tbody tr th:only-of-type {\n",
       "        vertical-align: middle;\n",
       "    }\n",
       "\n",
       "    .dataframe tbody tr th {\n",
       "        vertical-align: top;\n",
       "    }\n",
       "\n",
       "    .dataframe thead th {\n",
       "        text-align: right;\n",
       "    }\n",
       "</style>\n",
       "<table border=\"1\" class=\"dataframe\">\n",
       "  <thead>\n",
       "    <tr style=\"text-align: right;\">\n",
       "      <th></th>\n",
       "      <th>user_id</th>\n",
       "      <th>order_number</th>\n",
       "      <th>order_dow</th>\n",
       "      <th>order_hour_of_day</th>\n",
       "      <th>days_since_prior_order</th>\n",
       "    </tr>\n",
       "    <tr>\n",
       "      <th>order_id</th>\n",
       "      <th></th>\n",
       "      <th></th>\n",
       "      <th></th>\n",
       "      <th></th>\n",
       "      <th></th>\n",
       "    </tr>\n",
       "  </thead>\n",
       "  <tbody>\n",
       "    <tr>\n",
       "      <th>2168274</th>\n",
       "      <td>2</td>\n",
       "      <td>1</td>\n",
       "      <td>2</td>\n",
       "      <td>11</td>\n",
       "      <td>NaN</td>\n",
       "    </tr>\n",
       "    <tr>\n",
       "      <th>1501582</th>\n",
       "      <td>2</td>\n",
       "      <td>2</td>\n",
       "      <td>5</td>\n",
       "      <td>10</td>\n",
       "      <td>10.0</td>\n",
       "    </tr>\n",
       "    <tr>\n",
       "      <th>1901567</th>\n",
       "      <td>2</td>\n",
       "      <td>3</td>\n",
       "      <td>1</td>\n",
       "      <td>10</td>\n",
       "      <td>3.0</td>\n",
       "    </tr>\n",
       "    <tr>\n",
       "      <th>738281</th>\n",
       "      <td>2</td>\n",
       "      <td>4</td>\n",
       "      <td>2</td>\n",
       "      <td>10</td>\n",
       "      <td>8.0</td>\n",
       "    </tr>\n",
       "    <tr>\n",
       "      <th>1673511</th>\n",
       "      <td>2</td>\n",
       "      <td>5</td>\n",
       "      <td>3</td>\n",
       "      <td>11</td>\n",
       "      <td>8.0</td>\n",
       "    </tr>\n",
       "    <tr>\n",
       "      <th>1199898</th>\n",
       "      <td>2</td>\n",
       "      <td>6</td>\n",
       "      <td>2</td>\n",
       "      <td>9</td>\n",
       "      <td>13.0</td>\n",
       "    </tr>\n",
       "    <tr>\n",
       "      <th>3194192</th>\n",
       "      <td>2</td>\n",
       "      <td>7</td>\n",
       "      <td>2</td>\n",
       "      <td>12</td>\n",
       "      <td>14.0</td>\n",
       "    </tr>\n",
       "    <tr>\n",
       "      <th>788338</th>\n",
       "      <td>2</td>\n",
       "      <td>8</td>\n",
       "      <td>1</td>\n",
       "      <td>15</td>\n",
       "      <td>27.0</td>\n",
       "    </tr>\n",
       "    <tr>\n",
       "      <th>1718559</th>\n",
       "      <td>2</td>\n",
       "      <td>9</td>\n",
       "      <td>2</td>\n",
       "      <td>9</td>\n",
       "      <td>8.0</td>\n",
       "    </tr>\n",
       "    <tr>\n",
       "      <th>1447487</th>\n",
       "      <td>2</td>\n",
       "      <td>10</td>\n",
       "      <td>1</td>\n",
       "      <td>11</td>\n",
       "      <td>6.0</td>\n",
       "    </tr>\n",
       "    <tr>\n",
       "      <th>1402090</th>\n",
       "      <td>2</td>\n",
       "      <td>11</td>\n",
       "      <td>1</td>\n",
       "      <td>10</td>\n",
       "      <td>30.0</td>\n",
       "    </tr>\n",
       "    <tr>\n",
       "      <th>3186735</th>\n",
       "      <td>2</td>\n",
       "      <td>12</td>\n",
       "      <td>1</td>\n",
       "      <td>9</td>\n",
       "      <td>28.0</td>\n",
       "    </tr>\n",
       "    <tr>\n",
       "      <th>3268552</th>\n",
       "      <td>2</td>\n",
       "      <td>13</td>\n",
       "      <td>4</td>\n",
       "      <td>11</td>\n",
       "      <td>30.0</td>\n",
       "    </tr>\n",
       "    <tr>\n",
       "      <th>839880</th>\n",
       "      <td>2</td>\n",
       "      <td>14</td>\n",
       "      <td>3</td>\n",
       "      <td>10</td>\n",
       "      <td>13.0</td>\n",
       "    </tr>\n",
       "    <tr>\n",
       "      <th>1492625</th>\n",
       "      <td>2</td>\n",
       "      <td>15</td>\n",
       "      <td>1</td>\n",
       "      <td>11</td>\n",
       "      <td>30.0</td>\n",
       "    </tr>\n",
       "    <tr>\n",
       "      <th>600894</th>\n",
       "      <td>8</td>\n",
       "      <td>1</td>\n",
       "      <td>6</td>\n",
       "      <td>0</td>\n",
       "      <td>NaN</td>\n",
       "    </tr>\n",
       "  </tbody>\n",
       "</table>\n",
       "</div>"
      ],
      "text/plain": [
       "          user_id  order_number  order_dow  order_hour_of_day  \\\n",
       "order_id                                                        \n",
       "2168274         2             1          2                 11   \n",
       "1501582         2             2          5                 10   \n",
       "1901567         2             3          1                 10   \n",
       "738281          2             4          2                 10   \n",
       "1673511         2             5          3                 11   \n",
       "1199898         2             6          2                  9   \n",
       "3194192         2             7          2                 12   \n",
       "788338          2             8          1                 15   \n",
       "1718559         2             9          2                  9   \n",
       "1447487         2            10          1                 11   \n",
       "1402090         2            11          1                 10   \n",
       "3186735         2            12          1                  9   \n",
       "3268552         2            13          4                 11   \n",
       "839880          2            14          3                 10   \n",
       "1492625         2            15          1                 11   \n",
       "600894          8             1          6                  0   \n",
       "\n",
       "          days_since_prior_order  \n",
       "order_id                          \n",
       "2168274                      NaN  \n",
       "1501582                     10.0  \n",
       "1901567                      3.0  \n",
       "738281                       8.0  \n",
       "1673511                      8.0  \n",
       "1199898                     13.0  \n",
       "3194192                     14.0  \n",
       "788338                      27.0  \n",
       "1718559                      8.0  \n",
       "1447487                      6.0  \n",
       "1402090                     30.0  \n",
       "3186735                     28.0  \n",
       "3268552                     30.0  \n",
       "839880                      13.0  \n",
       "1492625                     30.0  \n",
       "600894                       NaN  "
      ]
     },
     "execution_count": 12,
     "metadata": {},
     "output_type": "execute_result"
    }
   ],
   "source": [
    "orders.head(16)"
   ]
  },
  {
   "cell_type": "markdown",
   "metadata": {},
   "source": [
    "# Product segmentation\n",
    "\n",
    "### Can products be separated into groups?\n",
    "- the store they come from\n",
    "- the customers who buy them\n",
    "- properties? i.e. name, department, aisle?\n",
    "- the products that they are co-ordered with\n",
    "\n",
    "Hypothesis 1:\n",
    "Orders come from discrete retailers; product assortment will be largely or entirely separate depending on store.\n",
    "\n",
    "Test method:\n",
    "Build a graph of all products. Products will be connected to other products that they share an order with, this will determine whether there are entirely disjoint sections of product graph"
   ]
  },
  {
   "cell_type": "code",
   "execution_count": 13,
   "metadata": {},
   "outputs": [],
   "source": [
    "ops = pd.merge(ops, products, left_on='product_id', right_index=True).sort_values('order_id')   \n",
    "# add product details to order_products: name, aisle_id, department_id "
   ]
  },
  {
   "cell_type": "code",
   "execution_count": 14,
   "metadata": {},
   "outputs": [
    {
     "data": {
      "text/html": [
       "<div>\n",
       "<style scoped>\n",
       "    .dataframe tbody tr th:only-of-type {\n",
       "        vertical-align: middle;\n",
       "    }\n",
       "\n",
       "    .dataframe tbody tr th {\n",
       "        vertical-align: top;\n",
       "    }\n",
       "\n",
       "    .dataframe thead th {\n",
       "        text-align: right;\n",
       "    }\n",
       "</style>\n",
       "<table border=\"1\" class=\"dataframe\">\n",
       "  <thead>\n",
       "    <tr style=\"text-align: right;\">\n",
       "      <th></th>\n",
       "      <th>order_id</th>\n",
       "      <th>product_id</th>\n",
       "      <th>add_to_cart_order</th>\n",
       "      <th>reordered</th>\n",
       "      <th>product_name</th>\n",
       "      <th>aisle_id</th>\n",
       "      <th>department_id</th>\n",
       "    </tr>\n",
       "  </thead>\n",
       "  <tbody>\n",
       "    <tr>\n",
       "      <th>0</th>\n",
       "      <td>2</td>\n",
       "      <td>33120</td>\n",
       "      <td>1</td>\n",
       "      <td>1</td>\n",
       "      <td>Organic Egg Whites</td>\n",
       "      <td>86</td>\n",
       "      <td>16</td>\n",
       "    </tr>\n",
       "    <tr>\n",
       "      <th>8</th>\n",
       "      <td>2</td>\n",
       "      <td>43668</td>\n",
       "      <td>9</td>\n",
       "      <td>0</td>\n",
       "      <td>Classic Blend Cole Slaw</td>\n",
       "      <td>123</td>\n",
       "      <td>4</td>\n",
       "    </tr>\n",
       "    <tr>\n",
       "      <th>7</th>\n",
       "      <td>2</td>\n",
       "      <td>1819</td>\n",
       "      <td>8</td>\n",
       "      <td>1</td>\n",
       "      <td>All Natural No Stir Creamy Almond Butter</td>\n",
       "      <td>88</td>\n",
       "      <td>13</td>\n",
       "    </tr>\n",
       "    <tr>\n",
       "      <th>5</th>\n",
       "      <td>2</td>\n",
       "      <td>17794</td>\n",
       "      <td>6</td>\n",
       "      <td>1</td>\n",
       "      <td>Carrots</td>\n",
       "      <td>83</td>\n",
       "      <td>4</td>\n",
       "    </tr>\n",
       "    <tr>\n",
       "      <th>4</th>\n",
       "      <td>2</td>\n",
       "      <td>30035</td>\n",
       "      <td>5</td>\n",
       "      <td>0</td>\n",
       "      <td>Natural Sweetener</td>\n",
       "      <td>17</td>\n",
       "      <td>13</td>\n",
       "    </tr>\n",
       "  </tbody>\n",
       "</table>\n",
       "</div>"
      ],
      "text/plain": [
       "   order_id  product_id  add_to_cart_order  reordered  \\\n",
       "0         2       33120                  1          1   \n",
       "8         2       43668                  9          0   \n",
       "7         2        1819                  8          1   \n",
       "5         2       17794                  6          1   \n",
       "4         2       30035                  5          0   \n",
       "\n",
       "                               product_name  aisle_id  department_id  \n",
       "0                        Organic Egg Whites        86             16  \n",
       "8                   Classic Blend Cole Slaw       123              4  \n",
       "7  All Natural No Stir Creamy Almond Butter        88             13  \n",
       "5                                   Carrots        83              4  \n",
       "4                         Natural Sweetener        17             13  "
      ]
     },
     "execution_count": 14,
     "metadata": {},
     "output_type": "execute_result"
    }
   ],
   "source": [
    "ops.head()"
   ]
  },
  {
   "cell_type": "code",
   "execution_count": 15,
   "metadata": {},
   "outputs": [
    {
     "data": {
      "text/plain": [
       "Banana                    58231\n",
       "Bag of Organic Bananas    45699\n",
       "Organic Strawberries      32203\n",
       "Organic Baby Spinach      29380\n",
       "Organic Hass Avocado      25958\n",
       "Organic Avocado           21642\n",
       "Large Lemon               18581\n",
       "Limes                     17399\n",
       "Strawberries              17217\n",
       "Organic Whole Milk        16468\n",
       "Name: product_name, dtype: int64"
      ]
     },
     "execution_count": 15,
     "metadata": {},
     "output_type": "execute_result"
    }
   ],
   "source": [
    "# note for me - series.value_counts() is nice\n",
    "ops.groupby('product_name').size().sort_values(ascending=False)[:10]\n",
    "ops.product_name.value_counts()[:10]"
   ]
  },
  {
   "cell_type": "code",
   "execution_count": 16,
   "metadata": {},
   "outputs": [
    {
     "data": {
      "text/plain": [
       "42814"
      ]
     },
     "execution_count": 16,
     "metadata": {},
     "output_type": "execute_result"
    }
   ],
   "source": [
    "real_products = set(ops.product_id.unique())   # there are products in db['products'] that are not in any orders\n",
    "len(real_products)"
   ]
  },
  {
   "cell_type": "code",
   "execution_count": 17,
   "metadata": {},
   "outputs": [],
   "source": [
    "products['product_id'] = products.index.values  # can't apply function to index, so duplicate it"
   ]
  },
  {
   "cell_type": "code",
   "execution_count": 18,
   "metadata": {},
   "outputs": [],
   "source": [
    "products_in_order = ops.groupby('order_id')['product_id'].unique()  # takes ~1 min to build"
   ]
  },
  {
   "cell_type": "code",
   "execution_count": 19,
   "metadata": {},
   "outputs": [
    {
     "data": {
      "text/html": [
       "<div>\n",
       "<style scoped>\n",
       "    .dataframe tbody tr th:only-of-type {\n",
       "        vertical-align: middle;\n",
       "    }\n",
       "\n",
       "    .dataframe tbody tr th {\n",
       "        vertical-align: top;\n",
       "    }\n",
       "\n",
       "    .dataframe thead th {\n",
       "        text-align: right;\n",
       "    }\n",
       "</style>\n",
       "<table border=\"1\" class=\"dataframe\">\n",
       "  <thead>\n",
       "    <tr style=\"text-align: right;\">\n",
       "      <th></th>\n",
       "      <th>order_id</th>\n",
       "      <th>product_id</th>\n",
       "      <th>add_to_cart_order</th>\n",
       "      <th>reordered</th>\n",
       "      <th>product_name</th>\n",
       "      <th>aisle_id</th>\n",
       "      <th>department_id</th>\n",
       "    </tr>\n",
       "  </thead>\n",
       "  <tbody>\n",
       "    <tr>\n",
       "      <th>0</th>\n",
       "      <td>2</td>\n",
       "      <td>33120</td>\n",
       "      <td>1</td>\n",
       "      <td>1</td>\n",
       "      <td>Organic Egg Whites</td>\n",
       "      <td>86</td>\n",
       "      <td>16</td>\n",
       "    </tr>\n",
       "    <tr>\n",
       "      <th>8</th>\n",
       "      <td>2</td>\n",
       "      <td>43668</td>\n",
       "      <td>9</td>\n",
       "      <td>0</td>\n",
       "      <td>Classic Blend Cole Slaw</td>\n",
       "      <td>123</td>\n",
       "      <td>4</td>\n",
       "    </tr>\n",
       "    <tr>\n",
       "      <th>7</th>\n",
       "      <td>2</td>\n",
       "      <td>1819</td>\n",
       "      <td>8</td>\n",
       "      <td>1</td>\n",
       "      <td>All Natural No Stir Creamy Almond Butter</td>\n",
       "      <td>88</td>\n",
       "      <td>13</td>\n",
       "    </tr>\n",
       "    <tr>\n",
       "      <th>5</th>\n",
       "      <td>2</td>\n",
       "      <td>17794</td>\n",
       "      <td>6</td>\n",
       "      <td>1</td>\n",
       "      <td>Carrots</td>\n",
       "      <td>83</td>\n",
       "      <td>4</td>\n",
       "    </tr>\n",
       "    <tr>\n",
       "      <th>4</th>\n",
       "      <td>2</td>\n",
       "      <td>30035</td>\n",
       "      <td>5</td>\n",
       "      <td>0</td>\n",
       "      <td>Natural Sweetener</td>\n",
       "      <td>17</td>\n",
       "      <td>13</td>\n",
       "    </tr>\n",
       "  </tbody>\n",
       "</table>\n",
       "</div>"
      ],
      "text/plain": [
       "   order_id  product_id  add_to_cart_order  reordered  \\\n",
       "0         2       33120                  1          1   \n",
       "8         2       43668                  9          0   \n",
       "7         2        1819                  8          1   \n",
       "5         2       17794                  6          1   \n",
       "4         2       30035                  5          0   \n",
       "\n",
       "                               product_name  aisle_id  department_id  \n",
       "0                        Organic Egg Whites        86             16  \n",
       "8                   Classic Blend Cole Slaw       123              4  \n",
       "7  All Natural No Stir Creamy Almond Butter        88             13  \n",
       "5                                   Carrots        83              4  \n",
       "4                         Natural Sweetener        17             13  "
      ]
     },
     "execution_count": 19,
     "metadata": {},
     "output_type": "execute_result"
    }
   ],
   "source": [
    "ops.head()"
   ]
  },
  {
   "cell_type": "code",
   "execution_count": 23,
   "metadata": {},
   "outputs": [],
   "source": [
    "from collections import defaultdict\n",
    "\n",
    "'''\n",
    "ProductGraph provides a measure of distance between products based on number of\n",
    "orders in which A,B overlap.\n",
    "Note that this is NOT a measure of similarity, i.e. bananas and bag-of-bananas are\n",
    "likely far apart.\n",
    "Low distance <-> high likelihood of overlap\n",
    "'''\n",
    "\n",
    "class ProductGraph:\n",
    "    def __init__(self, order_records):\n",
    "        # order_records[i] => {items in order i}\n",
    "        # i.e. a groupby object\n",
    "        self.records = order_records.groupby('order_id')['product_id'].unique()\n",
    "        \n",
    "        # graph is from a product to other products that are connected by an order\n",
    "        # graph[A] = {B: number of orders containing both A & B}\n",
    "        self.graph = {i: defaultdict(int) for i in order_records.product_id.unique()}\n",
    "        \n",
    "        # order_records.product_id.value_counts()[]\n",
    "        self.orders_for_product = order_records.product_id.value_counts()\n",
    "        \n",
    "    def add_order_items(self, order_items):\n",
    "        # add a collection of items to network;\n",
    "        # each connection is incremented by one\n",
    "        # order n^2 but only has to run once...\n",
    "        for active_item in order_items:\n",
    "            for second_item in [item for item in order_items if item != active_item]:\n",
    "                self.graph[active_item][second_item] += 1\n",
    "                \n",
    "    def add_order_number(self, order_number):\n",
    "        order_items = self.records[order_number]\n",
    "        self.add_order_items(order_items)\n",
    "        \n",
    "    def build_graph(self):\n",
    "        for order_no in tqdm(self.records.index):\n",
    "            self.add_order_number(order_no)\n",
    "            \n",
    "    def find_all_connections_from(self, start_node):\n",
    "        # BFS on graph to find indirectly-connected products\n",
    "        q = []\n",
    "        q.append(start_node)\n",
    "        visited = set()\n",
    "        while q:\n",
    "            node = q.pop()  # node we are on\n",
    "            if node in visited:\n",
    "                continue\n",
    "            else:\n",
    "                visited.add(node)\n",
    "                for key in self.graph[node].keys():\n",
    "                    q.append(key)\n",
    "        return visited\n",
    "        \n",
    "    def distance(self, node_1, node_2, oddity=.75):\n",
    "        # distance from 1 to 2, with oddity factor so it's not all bananas\n",
    "        # increasing oddity devalues popular products\n",
    "        connections = self.graph[node_1][node_2]\n",
    "        if node_1 == node_2:\n",
    "            return 0\n",
    "        elif connections:\n",
    "            pop = self.orders_for_product[node_2]**oddity\n",
    "            return pop / connections\n",
    "        else:\n",
    "            return None"
   ]
  },
  {
   "cell_type": "code",
   "execution_count": 24,
   "metadata": {},
   "outputs": [],
   "source": [
    "g = ProductGraph(ops)  # slow-ish, runs 2 groupby operations "
   ]
  },
  {
   "cell_type": "code",
   "execution_count": 25,
   "metadata": {},
   "outputs": [
    {
     "name": "stderr",
     "output_type": "stream",
     "text": [
      "100%|██████████| 389772/389772 [01:00<00:00, 6481.55it/s]\n"
     ]
    }
   ],
   "source": [
    "g.build_graph()"
   ]
  },
  {
   "cell_type": "code",
   "execution_count": 29,
   "metadata": {},
   "outputs": [],
   "source": [
    "connected_to_ = g.find_all_connections_from(2)"
   ]
  },
  {
   "cell_type": "code",
   "execution_count": 30,
   "metadata": {},
   "outputs": [
    {
     "name": "stdout",
     "output_type": "stream",
     "text": [
      "42783\n"
     ]
    }
   ],
   "source": [
    "print(len(connected_to_))\n",
    "# fully connected graph except for products only purchased alone"
   ]
  },
  {
   "cell_type": "markdown",
   "metadata": {},
   "source": [
    "### Hypothesis - discrete retailers:\n",
    "\n",
    "False. Graph of products is fully connected (at some depth), except for products that have only been ordered singly."
   ]
  },
  {
   "cell_type": "code",
   "execution_count": 31,
   "metadata": {},
   "outputs": [],
   "source": [
    "singletons = [p for p in real_products if p not in connected_to_]"
   ]
  },
  {
   "cell_type": "code",
   "execution_count": 32,
   "metadata": {},
   "outputs": [
    {
     "data": {
      "text/plain": [
       "31"
      ]
     },
     "execution_count": 32,
     "metadata": {},
     "output_type": "execute_result"
    }
   ],
   "source": [
    "len(singletons)"
   ]
  },
  {
   "cell_type": "code",
   "execution_count": 34,
   "metadata": {},
   "outputs": [
    {
     "data": {
      "text/html": [
       "<div>\n",
       "<style scoped>\n",
       "    .dataframe tbody tr th:only-of-type {\n",
       "        vertical-align: middle;\n",
       "    }\n",
       "\n",
       "    .dataframe tbody tr th {\n",
       "        vertical-align: top;\n",
       "    }\n",
       "\n",
       "    .dataframe thead th {\n",
       "        text-align: right;\n",
       "    }\n",
       "</style>\n",
       "<table border=\"1\" class=\"dataframe\">\n",
       "  <thead>\n",
       "    <tr style=\"text-align: right;\">\n",
       "      <th></th>\n",
       "      <th>product_name</th>\n",
       "      <th>aisle_id</th>\n",
       "      <th>department_id</th>\n",
       "      <th>product_id</th>\n",
       "    </tr>\n",
       "    <tr>\n",
       "      <th>product_id</th>\n",
       "      <th></th>\n",
       "      <th></th>\n",
       "      <th></th>\n",
       "      <th></th>\n",
       "    </tr>\n",
       "  </thead>\n",
       "  <tbody>\n",
       "    <tr>\n",
       "      <th>1470</th>\n",
       "      <td>Elastic Bandage With Clips for Customized Comp...</td>\n",
       "      <td>118</td>\n",
       "      <td>11</td>\n",
       "      <td>1470</td>\n",
       "    </tr>\n",
       "    <tr>\n",
       "      <th>1533</th>\n",
       "      <td>Organic 100% Juice Variety</td>\n",
       "      <td>98</td>\n",
       "      <td>7</td>\n",
       "      <td>1533</td>\n",
       "    </tr>\n",
       "    <tr>\n",
       "      <th>3058</th>\n",
       "      <td>Sunscreen Lotion Face Oil-Free SPF 70+</td>\n",
       "      <td>73</td>\n",
       "      <td>11</td>\n",
       "      <td>3058</td>\n",
       "    </tr>\n",
       "    <tr>\n",
       "      <th>4882</th>\n",
       "      <td>Tape</td>\n",
       "      <td>6</td>\n",
       "      <td>2</td>\n",
       "      <td>4882</td>\n",
       "    </tr>\n",
       "    <tr>\n",
       "      <th>6206</th>\n",
       "      <td>Calcium Magnesium Zinc Tablets</td>\n",
       "      <td>47</td>\n",
       "      <td>11</td>\n",
       "      <td>6206</td>\n",
       "    </tr>\n",
       "    <tr>\n",
       "      <th>10381</th>\n",
       "      <td>Chocolate Mousse Cake</td>\n",
       "      <td>8</td>\n",
       "      <td>3</td>\n",
       "      <td>10381</td>\n",
       "    </tr>\n",
       "    <tr>\n",
       "      <th>10382</th>\n",
       "      <td>Spirulina Pacifica Powder</td>\n",
       "      <td>47</td>\n",
       "      <td>11</td>\n",
       "      <td>10382</td>\n",
       "    </tr>\n",
       "    <tr>\n",
       "      <th>10870</th>\n",
       "      <td>Blue Label Year of the Ram</td>\n",
       "      <td>124</td>\n",
       "      <td>5</td>\n",
       "      <td>10870</td>\n",
       "    </tr>\n",
       "    <tr>\n",
       "      <th>12698</th>\n",
       "      <td>Stress B-Complex with Vitamin C &amp; Zinc</td>\n",
       "      <td>47</td>\n",
       "      <td>11</td>\n",
       "      <td>12698</td>\n",
       "    </tr>\n",
       "    <tr>\n",
       "      <th>13185</th>\n",
       "      <td>Vitamin C, 500 mg, Chewable Wafers, Mixed Fruit</td>\n",
       "      <td>47</td>\n",
       "      <td>11</td>\n",
       "      <td>13185</td>\n",
       "    </tr>\n",
       "  </tbody>\n",
       "</table>\n",
       "</div>"
      ],
      "text/plain": [
       "                                                 product_name  aisle_id  \\\n",
       "product_id                                                                \n",
       "1470        Elastic Bandage With Clips for Customized Comp...       118   \n",
       "1533                               Organic 100% Juice Variety        98   \n",
       "3058                   Sunscreen Lotion Face Oil-Free SPF 70+        73   \n",
       "4882                                                     Tape         6   \n",
       "6206                           Calcium Magnesium Zinc Tablets        47   \n",
       "10381                                   Chocolate Mousse Cake         8   \n",
       "10382                               Spirulina Pacifica Powder        47   \n",
       "10870                              Blue Label Year of the Ram       124   \n",
       "12698                  Stress B-Complex with Vitamin C & Zinc        47   \n",
       "13185         Vitamin C, 500 mg, Chewable Wafers, Mixed Fruit        47   \n",
       "\n",
       "            department_id  product_id  \n",
       "product_id                             \n",
       "1470                   11        1470  \n",
       "1533                    7        1533  \n",
       "3058                   11        3058  \n",
       "4882                    2        4882  \n",
       "6206                   11        6206  \n",
       "10381                   3       10381  \n",
       "10382                  11       10382  \n",
       "10870                   5       10870  \n",
       "12698                  11       12698  \n",
       "13185                  11       13185  "
      ]
     },
     "execution_count": 34,
     "metadata": {},
     "output_type": "execute_result"
    }
   ],
   "source": [
    "connected_to_ = None\n",
    "products.loc[singletons[:10]]  # weirdo product"
   ]
  },
  {
   "cell_type": "markdown",
   "metadata": {},
   "source": [
    "### Now we have something like a distance metric\n",
    "\n",
    "So, we can pick out the closest product to a basket. This may be a reasonable guess for something a customer would buy.\n",
    "\n",
    "### Hypothesis:\n",
    "\n",
    "The value of recommending a product is inversely proportional to the popularity of that product to some power <= 1.\n",
    "\n",
    "Bananas will often have the highest number of shared orders with a product, but it seems that bananas are not the best recommendation to make in all cases.\n",
    "\n",
    "Consider niche product X.\n",
    "Of a million people who bought bananas, some will buy X. This reflects more on the ubiquity of bananas than a strong affinity of banana buyers to product X.\n",
    "\n",
    "Although a percentage of buyers of X will go on to buy bananas, there are probably higher-value recommendations available."
   ]
  },
  {
   "cell_type": "code",
   "execution_count": 35,
   "metadata": {},
   "outputs": [
    {
     "data": {
      "text/plain": [
       "24852    58231\n",
       "13176    45699\n",
       "21137    32203\n",
       "Name: product_id, dtype: int64"
      ]
     },
     "execution_count": 35,
     "metadata": {},
     "output_type": "execute_result"
    }
   ],
   "source": [
    "ops.product_id.value_counts()[:3]   # ID, number of orders"
   ]
  },
  {
   "cell_type": "code",
   "execution_count": 36,
   "metadata": {},
   "outputs": [
    {
     "data": {
      "text/plain": [
       "'Vanilla Almond Breeze Almond Milk'"
      ]
     },
     "execution_count": 36,
     "metadata": {},
     "output_type": "execute_result"
    }
   ],
   "source": [
    "banana = 24852\n",
    "org_bananas = 13176\n",
    "org_strawberries = 21137\n",
    "almond_milk = 432\n",
    "products.product_name.loc[almond_milk]"
   ]
  },
  {
   "cell_type": "code",
   "execution_count": 37,
   "metadata": {},
   "outputs": [
    {
     "data": {
      "text/plain": [
       "7.353984770169453e-05"
      ]
     },
     "execution_count": 37,
     "metadata": {},
     "output_type": "execute_result"
    }
   ],
   "source": [
    "g.distance(org_strawberries, org_bananas)    # .15"
   ]
  },
  {
   "cell_type": "code",
   "execution_count": 38,
   "metadata": {},
   "outputs": [
    {
     "data": {
      "text/plain": [
       "5.8832682369398116e-05"
      ]
     },
     "execution_count": 38,
     "metadata": {},
     "output_type": "execute_result"
    }
   ],
   "source": [
    "g.distance(org_strawberries, banana)    # .12"
   ]
  },
  {
   "cell_type": "code",
   "execution_count": 42,
   "metadata": {},
   "outputs": [
    {
     "data": {
      "text/plain": [
       "2.108858601475143e-05"
      ]
     },
     "execution_count": 42,
     "metadata": {},
     "output_type": "execute_result"
    }
   ],
   "source": [
    "g.distance(org_bananas, almond_milk)"
   ]
  },
  {
   "cell_type": "code",
   "execution_count": 43,
   "metadata": {},
   "outputs": [
    {
     "data": {
      "text/plain": [
       "3.58127095133025e-05"
      ]
     },
     "execution_count": 43,
     "metadata": {},
     "output_type": "execute_result"
    }
   ],
   "source": [
    "g.distance(banana, almond_milk)"
   ]
  },
  {
   "cell_type": "code",
   "execution_count": null,
   "metadata": {},
   "outputs": [],
   "source": [
    "top_ten_k = ops.product_id.value_counts().keys()[:10000]  # 10,000 most popular items"
   ]
  },
  {
   "cell_type": "code",
   "execution_count": null,
   "metadata": {},
   "outputs": [],
   "source": [
    "def recommend(order_items, dist=g.distance, options=top_ten_k, oddity=.75):\n",
    "    '''\n",
    "    take a list of order items; compute distance using ProductGraph.distance\n",
    "    return most likely additions from top 1000 products\n",
    "    '''\n",
    "    best_item = None\n",
    "    best_score = 1000000\n",
    "    for option in options:\n",
    "        option_score = 0\n",
    "        for my_item in order_items:\n",
    "            if my_item == option:\n",
    "                break\n",
    "            else:\n",
    "                score = dist(my_item, option)\n",
    "                if score:\n",
    "                    option_score += score  # arbitrary similarity metric discounts popular products\n",
    "        if option_score > best_score:\n",
    "            best_score = option_score\n",
    "            best_item = option\n",
    "    return best_item, best_score"
   ]
  },
  {
   "cell_type": "code",
   "execution_count": null,
   "metadata": {},
   "outputs": [],
   "source": [
    "recommend(products_in_order[2])"
   ]
  },
  {
   "cell_type": "code",
   "execution_count": null,
   "metadata": {},
   "outputs": [],
   "source": [
    "def generate_recs(i):\n",
    "    try:\n",
    "        basket = products_in_order[orders.index[i]]\n",
    "        last = basket[-1]\n",
    "        basket = basket[:-1]\n",
    "    except KeyError:\n",
    "        print('order_id {} exists in orders.index, but contains no items. \\n'.format(orders.index[i]))\n",
    "        return None\n",
    "    \n",
    "    print('\\n' + '+ ' * 30 + '\\n')\n",
    "    print(products.loc[basket].product_name)\n",
    "\n",
    "    for oddity in [0, .5, .7, 1, 1.5]:\n",
    "        print('\\n oddity factor: {}'.format(oddity))\n",
    "        item, score = recommend(basket, oddity=oddity)\n",
    "        if item:\n",
    "            print(products.loc[item].product_name)\n",
    "        \n",
    "    print()\n",
    "    print('actual final item: {}'.format(products.loc[last].product_name))\n",
    "        \n",
    "    print()\n",
    "    return item"
   ]
  },
  {
   "cell_type": "code",
   "execution_count": null,
   "metadata": {
    "scrolled": true
   },
   "outputs": [],
   "source": [
    "for _ in range(3):\n",
    "    o = pd.np.random.randint(0, 100000)\n",
    "    generate_recs(o)"
   ]
  },
  {
   "cell_type": "markdown",
   "metadata": {},
   "source": [
    "# Hypothesis:\n",
    "\n",
    "There is some support for an inverse factor for item popularity."
   ]
  },
  {
   "cell_type": "code",
   "execution_count": null,
   "metadata": {},
   "outputs": [],
   "source": []
  }
 ],
 "metadata": {
  "kernelspec": {
   "display_name": "Python 3",
   "language": "python",
   "name": "python3"
  },
  "language_info": {
   "codemirror_mode": {
    "name": "ipython",
    "version": 3
   },
   "file_extension": ".py",
   "mimetype": "text/x-python",
   "name": "python",
   "nbconvert_exporter": "python",
   "pygments_lexer": "ipython3",
   "version": "3.5.2"
  }
 },
 "nbformat": 4,
 "nbformat_minor": 2
}
