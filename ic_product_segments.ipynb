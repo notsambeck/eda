{
 "cells": [
  {
   "cell_type": "code",
   "execution_count": 1,
   "metadata": {},
   "outputs": [],
   "source": [
    "import pandas as pd\n",
    "import sqlalchemy as sql\n",
    "import matplotlib.pyplot as plt\n",
    "%matplotlib notebook\n",
    "\n",
    "from tqdm import tqdm"
   ]
  },
  {
   "cell_type": "markdown",
   "metadata": {},
   "source": [
    "# Data Dictionary\n",
    "- remember there is no data for last order per customer\n",
    "\n",
    "#### orders (415k rows): fact table, one record per order, includes useful time dimensions\n",
    "- order_id: order identifier\n",
    "- user_id: customer identifier\n",
    "- order_number: the order sequence number for this user (1 = first, n = nth)\n",
    "- order_dow: the day of the week the order was placed on\n",
    "- Order_hour_of_day: hour of day the order was placed\n",
    "- Days_since_prior_order: Number of days since that customer placed their previous order (NA for order_number = 1)\n",
    "\n",
    "#### order_products (3.9M rows): fact table, one record per order, per product\n",
    "_except for last order by a customer_\n",
    "- order_id: foreign key\n",
    "- product_id: foreign key\n",
    "- add_to_cart_order: order in which each product was added to cart\n",
    "- reordered: 1 if this product has been ordered by this user in the past, 0 otherwise\n",
    "\n",
    "#### products (50k rows): Dimension table for product info\n",
    "- product_id: product identifier\n",
    "- product_name: name of the product\n",
    "- aisle_id: foreign key\n",
    "- department_id: foreign key\n",
    "\n",
    "#### aisles (134 rows): Dimension table for aisle info\n",
    "- aisle_id: aisle identifier\n",
    "- aisle: the name of the aisle\n",
    "\n",
    "#### departments (21 rows): Dimension table for department info\n",
    "- department_id: department identifier\n",
    "- department: the name of the department\n"
   ]
  },
  {
   "cell_type": "code",
   "execution_count": 2,
   "metadata": {},
   "outputs": [],
   "source": [
    "engine = sql.create_engine('sqlite:///instacart.db')\n",
    "db = {}"
   ]
  },
  {
   "cell_type": "code",
   "execution_count": 3,
   "metadata": {},
   "outputs": [],
   "source": [
    "for table in ['orders', 'order_products', 'products', 'aisles', 'departments',]:\n",
    "    db[table] = pd.read_sql_table(table, engine, index_col=0,)"
   ]
  },
  {
   "cell_type": "code",
   "execution_count": 4,
   "metadata": {},
   "outputs": [],
   "source": [
    "# aliases\n",
    "orders = db['orders']\n",
    "orders.set_index('order_id', inplace=True)\n",
    "\n",
    "ops = db['order_products']   # default index vs. multi-index on order_id + add_to_cart_order\n",
    "\n",
    "products = db['products']\n",
    "del(products['index'])       # index is one off from xxxx_id, confusing\n",
    "products.set_index('product_id', inplace=True)\n",
    "\n",
    "del(db['departments']['index'])\n",
    "db['departments'].set_index('department_id', inplace=True)\n",
    "\n",
    "del(db['aisles']['index'])\n",
    "db['aisles'].set_index('aisle_id', inplace=True)"
   ]
  },
  {
   "cell_type": "code",
   "execution_count": 5,
   "metadata": {},
   "outputs": [],
   "source": [
    "products_by_aisle = products.groupby('aisle_id')\n",
    "products_by_dept = products.groupby('department_id')\n",
    "get_dept_from_aisle = products_by_aisle['department_id'].unique()"
   ]
  },
  {
   "cell_type": "code",
   "execution_count": 6,
   "metadata": {},
   "outputs": [],
   "source": [
    "get_aisles_from_dept = products_by_dept['aisle_id'].unique()"
   ]
  },
  {
   "cell_type": "code",
   "execution_count": 7,
   "metadata": {},
   "outputs": [],
   "source": [
    "# confirm correspondence:\n",
    "dept = 1\n",
    "for aisle in get_aisles_from_dept[dept]:\n",
    "    assert get_dept_from_aisle[aisle] == [dept]"
   ]
  },
  {
   "cell_type": "code",
   "execution_count": 8,
   "metadata": {},
   "outputs": [
    {
     "data": {
      "text/plain": [
       "414772"
      ]
     },
     "execution_count": 8,
     "metadata": {},
     "output_type": "execute_result"
    }
   ],
   "source": [
    "len(orders)"
   ]
  },
  {
   "cell_type": "code",
   "execution_count": null,
   "metadata": {},
   "outputs": [],
   "source": [
    "orders.index[14]  # no data in ops"
   ]
  },
  {
   "cell_type": "code",
   "execution_count": null,
   "metadata": {},
   "outputs": [],
   "source": [
    "orders.head(16)"
   ]
  },
  {
   "cell_type": "markdown",
   "metadata": {},
   "source": [
    "# Product segmentation\n",
    "\n",
    "### Can products be separated into groups?\n",
    "- the store they come from\n",
    "- the customers who buy them\n",
    "- properties? i.e. name, department, aisle?\n",
    "- the products that they are co-ordered with\n",
    "\n",
    "Hypothesis 1:\n",
    "Orders come from discrete retailers; product assortment will be largely or entirely separate depending on store.\n",
    "\n",
    "Test method:\n",
    "Build a graph of all products. Products will be connected to other products that they share an order with, this will determine whether there are entirely disjoint sections of product graph"
   ]
  },
  {
   "cell_type": "code",
   "execution_count": 9,
   "metadata": {},
   "outputs": [],
   "source": [
    "ops = pd.merge(ops, products, left_on='product_id', right_index=True).sort_values('order_id')   \n",
    "# add product details to order_products: name, aisle_id, department_id "
   ]
  },
  {
   "cell_type": "code",
   "execution_count": null,
   "metadata": {},
   "outputs": [],
   "source": [
    "ops.head()"
   ]
  },
  {
   "cell_type": "code",
   "execution_count": null,
   "metadata": {},
   "outputs": [],
   "source": [
    "# note for me - series.value_counts() is nice\n",
    "ops.groupby('product_name').size().sort_values(ascending=False)[:10]\n",
    "ops.product_name.value_counts()[:10]"
   ]
  },
  {
   "cell_type": "code",
   "execution_count": 10,
   "metadata": {},
   "outputs": [
    {
     "data": {
      "text/plain": [
       "42814"
      ]
     },
     "execution_count": 10,
     "metadata": {},
     "output_type": "execute_result"
    }
   ],
   "source": [
    "real_products = set(ops.product_id.unique())   # there are products in db['products'] that are not in any orders\n",
    "len(real_products)"
   ]
  },
  {
   "cell_type": "code",
   "execution_count": 11,
   "metadata": {},
   "outputs": [],
   "source": [
    "products['product_id'] = products.index.values  # can't apply function to index, so duplicate it"
   ]
  },
  {
   "cell_type": "code",
   "execution_count": 12,
   "metadata": {},
   "outputs": [],
   "source": [
    "products_in_order = ops.groupby('order_id')['product_id'].unique()  # takes ~1 min to build"
   ]
  },
  {
   "cell_type": "code",
   "execution_count": 13,
   "metadata": {},
   "outputs": [],
   "source": [
    "from collections import defaultdict\n",
    "\n",
    "'''\n",
    "ProductGraph provides a measure of distance between products based on number of\n",
    "orders in which A,B overlap.\n",
    "Note that this is NOT a measure of similarity, i.e. bananas and bag-of-bananas are\n",
    "likely far apart.\n",
    "Low distance <-> high likelihood of overlap\n",
    "'''\n",
    "\n",
    "class ProductGraph:\n",
    "    def __init__(self, order_records):\n",
    "        # order_records[i] => {items in order i}\n",
    "        # i.e. a groupby object\n",
    "        self.records = order_records.groupby('order_id')['product_id'].unique()\n",
    "        \n",
    "        # graph is from a product to other products that are connected by an order\n",
    "        # graph[A] = {B: number of orders containing both A & B}\n",
    "        self.graph = {i: defaultdict(int) for i in order_records.product_id.unique()}\n",
    "        \n",
    "        # order_records.product_id.value_counts()[]\n",
    "        self.orders_for_product = order_records.product_id.value_counts()\n",
    "        \n",
    "    def add_order_items(self, order_items):\n",
    "        # add a collection of items to network;\n",
    "        # each connection is incremented by one\n",
    "        # order n^2 but only has to run once...\n",
    "        for active_item in order_items:\n",
    "            for second_item in [item for item in order_items if item != active_item]:\n",
    "                self.graph[active_item][second_item] += 1\n",
    "                \n",
    "    def add_order_number(self, order_number):\n",
    "        order_items = self.records[order_number]\n",
    "        self.add_order_items(order_items)\n",
    "        \n",
    "    def build_graph(self):\n",
    "        for order_no in tqdm(self.records.index):\n",
    "            self.add_order_number(order_no)\n",
    "            \n",
    "    def find_all_connections_from(self, start_node):\n",
    "        # search on graph to find indirectly-connected products\n",
    "        q = []\n",
    "        q.append(start_node)\n",
    "        visited = set()\n",
    "        while q:\n",
    "            node = q.pop()  # node we are on\n",
    "            if node in visited:\n",
    "                continue\n",
    "            else:\n",
    "                visited.add(node)\n",
    "                for key in self.graph[node].keys():\n",
    "                    q.append(key)\n",
    "        return visited\n",
    "        \n",
    "    def distance(self, node_1, node_2, oddity=.75):\n",
    "        # distance from 1 to 2, with oddity factor so it's not all bananas\n",
    "        # increasing oddity devalues popular products\n",
    "        # not normalized\n",
    "        connections = self.graph[node_1][node_2]\n",
    "        if node_1 == node_2:\n",
    "            return 0\n",
    "        elif connections:\n",
    "            pop = self.orders_for_product[node_2]**oddity\n",
    "            return pop / connections\n",
    "        else:\n",
    "            return 1000"
   ]
  },
  {
   "cell_type": "code",
   "execution_count": 14,
   "metadata": {},
   "outputs": [],
   "source": [
    "g = ProductGraph(ops)  # slow-ish, runs 2 groupby operations "
   ]
  },
  {
   "cell_type": "code",
   "execution_count": 15,
   "metadata": {},
   "outputs": [
    {
     "name": "stderr",
     "output_type": "stream",
     "text": [
      "100%|██████████| 389772/389772 [01:04<00:00, 6030.39it/s]\n"
     ]
    }
   ],
   "source": [
    "g.build_graph()"
   ]
  },
  {
   "cell_type": "code",
   "execution_count": null,
   "metadata": {},
   "outputs": [],
   "source": [
    "# g.graph = save\n",
    "# save = g.graph"
   ]
  },
  {
   "cell_type": "code",
   "execution_count": null,
   "metadata": {},
   "outputs": [],
   "source": [
    "connected_to_ = g.find_all_connections_from(2)"
   ]
  },
  {
   "cell_type": "code",
   "execution_count": null,
   "metadata": {},
   "outputs": [],
   "source": [
    "print(len(connected_to_))\n",
    "# fully connected graph except for products only purchased alone"
   ]
  },
  {
   "cell_type": "markdown",
   "metadata": {},
   "source": [
    "### Hypothesis - discrete retailers:\n",
    "\n",
    "False. Graph of products is fully connected (at some depth), except for products that have only been ordered singly."
   ]
  },
  {
   "cell_type": "code",
   "execution_count": null,
   "metadata": {},
   "outputs": [],
   "source": [
    "singletons = [p for p in real_products if p not in connected_to_]"
   ]
  },
  {
   "cell_type": "code",
   "execution_count": null,
   "metadata": {},
   "outputs": [],
   "source": [
    "len(singletons)"
   ]
  },
  {
   "cell_type": "code",
   "execution_count": null,
   "metadata": {},
   "outputs": [],
   "source": [
    "connected_to_ = None\n",
    "products.loc[singletons[:10]]  # weirdo product"
   ]
  },
  {
   "cell_type": "markdown",
   "metadata": {},
   "source": [
    "### Now we have something like a distance metric\n",
    "\n",
    "So, we can pick out the closest product to a basket. This may be a reasonable guess for something a customer would buy.\n",
    "\n",
    "### Hypothesis:\n",
    "\n",
    "The value of recommending a product is inversely proportional to the popularity of that product to some power <= 1.\n",
    "\n",
    "Bananas will often have the highest number of shared orders with a product, but it seems that bananas are not the best recommendation to make in all cases.\n",
    "\n",
    "Consider niche product X.\n",
    "Of a million people who bought bananas, some will buy X. This reflects more on the ubiquity of bananas than a strong affinity of banana buyers to product X.\n",
    "\n",
    "Although a percentage of buyers of X will go on to buy bananas, there are probably higher-value recommendations available."
   ]
  },
  {
   "cell_type": "code",
   "execution_count": null,
   "metadata": {},
   "outputs": [],
   "source": [
    "ops.product_id.value_counts()[:3]   # ID, number of orders"
   ]
  },
  {
   "cell_type": "code",
   "execution_count": null,
   "metadata": {},
   "outputs": [],
   "source": [
    "banana = 24852\n",
    "org_bananas = 13176\n",
    "org_strawberries = 21137\n",
    "almond_milk = 432\n",
    "products.product_name.loc[almond_milk]"
   ]
  },
  {
   "cell_type": "code",
   "execution_count": null,
   "metadata": {},
   "outputs": [],
   "source": [
    "g.distance(org_strawberries, org_bananas)"
   ]
  },
  {
   "cell_type": "code",
   "execution_count": null,
   "metadata": {},
   "outputs": [],
   "source": [
    "g.distance(org_strawberries, banana)"
   ]
  },
  {
   "cell_type": "code",
   "execution_count": null,
   "metadata": {},
   "outputs": [],
   "source": [
    "g.distance(org_bananas, almond_milk)"
   ]
  },
  {
   "cell_type": "code",
   "execution_count": null,
   "metadata": {},
   "outputs": [],
   "source": [
    "g.distance(banana, almond_milk)"
   ]
  },
  {
   "cell_type": "code",
   "execution_count": null,
   "metadata": {},
   "outputs": [],
   "source": [
    "g.distance(almond_milk, banana)"
   ]
  },
  {
   "cell_type": "code",
   "execution_count": null,
   "metadata": {},
   "outputs": [],
   "source": [
    "g.distance(almond_milk, 10957)"
   ]
  },
  {
   "cell_type": "code",
   "execution_count": null,
   "metadata": {},
   "outputs": [],
   "source": [
    "top_ten_k = ops.product_id.value_counts().keys()[:10000]  # 10,000 most popular items"
   ]
  },
  {
   "cell_type": "code",
   "execution_count": null,
   "metadata": {},
   "outputs": [],
   "source": [
    "def recommend(order_items, dist=g.distance, options=top_ten_k, oddity=.75):\n",
    "    '''\n",
    "    take a list of order items; compute distance using ProductGraph.distance\n",
    "    return most likely additions from top 1000 products\n",
    "    '''\n",
    "    best_item = None\n",
    "    best_score = 1000000\n",
    "    for option in options:\n",
    "        option_score = 0\n",
    "        for my_item in order_items:\n",
    "            if my_item == option:\n",
    "                option_score = pd.np.NaN\n",
    "            else:\n",
    "                score = dist(my_item, option, oddity=oddity)\n",
    "                option_score += score  # arbitrary similarity metric discounts popular products\n",
    "        if option_score < best_score:\n",
    "            best_score = option_score\n",
    "            best_item = option\n",
    "    return best_item, best_score"
   ]
  },
  {
   "cell_type": "code",
   "execution_count": null,
   "metadata": {},
   "outputs": [],
   "source": [
    "recommend(products_in_order[2])"
   ]
  },
  {
   "cell_type": "code",
   "execution_count": null,
   "metadata": {},
   "outputs": [],
   "source": [
    "def generate_recs(i):\n",
    "    try:\n",
    "        basket = products_in_order[orders.index[i]]\n",
    "        last = basket[-1]\n",
    "        basket = basket[:-1]\n",
    "    except KeyError:\n",
    "        print('order_id {} exists in orders.index, but contains no items. \\n'.format(orders.index[i]))\n",
    "        return None\n",
    "    \n",
    "    print('\\n' + '+ ' * 30 + '\\n')\n",
    "    print(products.loc[basket].product_name)\n",
    "\n",
    "    for oddity in [0, .5, .7, 1, 1.5]:\n",
    "        print('\\n oddity factor: {}'.format(oddity))\n",
    "        item, score = recommend(basket, oddity=oddity)\n",
    "        if item:\n",
    "            print(products.loc[item].product_name)\n",
    "        \n",
    "    print()\n",
    "    print('actual final item: {}'.format(products.loc[last].product_name))\n",
    "        \n",
    "    print()\n",
    "    return item"
   ]
  },
  {
   "cell_type": "code",
   "execution_count": null,
   "metadata": {
    "scrolled": true
   },
   "outputs": [],
   "source": [
    "for _ in range(5):\n",
    "    o = pd.np.random.randint(0, 100000)\n",
    "    generate_recs(o)"
   ]
  },
  {
   "cell_type": "markdown",
   "metadata": {},
   "source": [
    "### Re: Hypothesis\n",
    "\n",
    "There is some support for an inverse factor for item popularity."
   ]
  },
  {
   "cell_type": "markdown",
   "metadata": {},
   "source": [
    "# Use distance metric to find a coordinate system for products\n",
    "\n",
    "By finding distance from a subset of products to all products, we will have multiple 'dimensions' that could be used for PCA, finding a coordinate system for products."
   ]
  },
  {
   "cell_type": "code",
   "execution_count": 16,
   "metadata": {},
   "outputs": [],
   "source": [
    "mask = [True if p in real_products else False for p in products.index]"
   ]
  },
  {
   "cell_type": "code",
   "execution_count": 17,
   "metadata": {},
   "outputs": [
    {
     "data": {
      "text/plain": [
       "42814"
      ]
     },
     "execution_count": 17,
     "metadata": {},
     "output_type": "execute_result"
    }
   ],
   "source": [
    "len(products[mask])"
   ]
  },
  {
   "cell_type": "code",
   "execution_count": 18,
   "metadata": {},
   "outputs": [],
   "source": [
    "real_products = products[mask].copy()"
   ]
  },
  {
   "cell_type": "code",
   "execution_count": 160,
   "metadata": {},
   "outputs": [
    {
     "name": "stderr",
     "output_type": "stream",
     "text": [
      "100%|██████████| 200/200 [00:33<00:00,  5.90it/s]\n"
     ]
    }
   ],
   "source": [
    "rows = len(real_products)\n",
    "\n",
    "for col in tqdm(range(200)):\n",
    "    prod = pd.np.random.randint(0, rows)\n",
    "    col_name = 'dist_{}'.format(str(prod))\n",
    "    d = [g.distance(real_products.index[i], real_products.index[prod])/1000 for i in range(rows)]\n",
    "    real_products[col_name] = d\n",
    "        "
   ]
  },
  {
   "cell_type": "code",
   "execution_count": 35,
   "metadata": {},
   "outputs": [
    {
     "data": {
      "text/plain": [
       "Index(['product_name', 'aisle_id', 'department_id', 'product_id', 'dist_35276',\n",
       "       'dist_38071', 'dist_23874', 'dist_27632', 'dist_7766', 'dist_5226',\n",
       "       ...\n",
       "       'dist_39923', 'dist_15454', 'dist_38103', 'dist_21462', 'dist_4277',\n",
       "       'dist_18246', 'dist_9311', 'dist_33521', 'dist_26681', 'dist_2836'],\n",
       "      dtype='object', length=598)"
      ]
     },
     "execution_count": 35,
     "metadata": {},
     "output_type": "execute_result"
    }
   ],
   "source": [
    "real_products.columns"
   ]
  },
  {
   "cell_type": "markdown",
   "metadata": {},
   "source": [
    "# Now we have distances (from arbitrary points)\n",
    "\n",
    "Can we use PCA to find a coordinate system that describes the space?"
   ]
  },
  {
   "cell_type": "code",
   "execution_count": 24,
   "metadata": {},
   "outputs": [],
   "source": [
    "from sklearn.decomposition import PCA"
   ]
  },
  {
   "cell_type": "code",
   "execution_count": 162,
   "metadata": {},
   "outputs": [],
   "source": [
    "pca = PCA(n_components=8)"
   ]
  },
  {
   "cell_type": "code",
   "execution_count": 163,
   "metadata": {},
   "outputs": [
    {
     "data": {
      "text/plain": [
       "PCA(copy=True, iterated_power='auto', n_components=8, random_state=None,\n",
       "  svd_solver='auto', tol=0.0, whiten=False)"
      ]
     },
     "execution_count": 163,
     "metadata": {},
     "output_type": "execute_result"
    }
   ],
   "source": [
    "pca.fit(real_products.iloc[:, 5:].values)"
   ]
  },
  {
   "cell_type": "code",
   "execution_count": 164,
   "metadata": {},
   "outputs": [],
   "source": [
    "xyz = pca.transform(real_products.iloc[:, 5:].values)"
   ]
  },
  {
   "cell_type": "code",
   "execution_count": 165,
   "metadata": {},
   "outputs": [
    {
     "data": {
      "text/plain": [
       "department_id\n",
       "1              frozen\n",
       "2               other\n",
       "3              bakery\n",
       "4             produce\n",
       "5             alcohol\n",
       "6       international\n",
       "7           beverages\n",
       "8                pets\n",
       "9     dry goods pasta\n",
       "10               bulk\n",
       "11      personal care\n",
       "12       meat seafood\n",
       "13             pantry\n",
       "14          breakfast\n",
       "15       canned goods\n",
       "16         dairy eggs\n",
       "17          household\n",
       "18             babies\n",
       "19             snacks\n",
       "20               deli\n",
       "21            missing\n",
       "Name: department, dtype: object"
      ]
     },
     "execution_count": 165,
     "metadata": {},
     "output_type": "execute_result"
    }
   ],
   "source": [
    "db['departments'].department"
   ]
  },
  {
   "cell_type": "code",
   "execution_count": 167,
   "metadata": {},
   "outputs": [
    {
     "data": {
      "text/plain": [
       "<matplotlib.legend.Legend at 0x7fc4e2ddc240>"
      ]
     },
     "execution_count": 167,
     "metadata": {},
     "output_type": "execute_result"
    },
    {
     "data": {
      "image/png": "[encoded data removed]",
      "text/plain": [
       "<matplotlib.figure.Figure at 0x7fc4e2e95e10>"
      ]
     },
     "metadata": {},
     "output_type": "display_data"
    }
   ],
   "source": [
    "d1 = 3\n",
    "d2 = 5\n",
    "d3 = 4\n",
    "groups = [(d1, 'purple'), (d2, 'green'), (d3, 'gray')]\n",
    "\n",
    "num=40000\n",
    "rows = 4\n",
    "\n",
    "fig, ax = plt.subplots(nrows=rows)\n",
    "fig.set_size_inches(16, 16)\n",
    "\n",
    "for i in range(rows):\n",
    "    for series, color in groups:\n",
    "        mask = real_products.department_id == series\n",
    "        label = db['departments'].department.loc[series]\n",
    "        ax[i].scatter(x=xyz[mask.values][:num, i], y=xyz[mask.values][:num, i+1], \n",
    "                      c=color,\n",
    "                      alpha=.5,\n",
    "                      s=3,\n",
    "                      label=label,\n",
    "                      )\n",
    "    \n",
    "ax[0].legend()"
   ]
  },
  {
   "cell_type": "code",
   "execution_count": null,
   "metadata": {},
   "outputs": [],
   "source": []
  }
 ],
 "metadata": {
  "kernelspec": {
   "display_name": "Python 3",
   "language": "python",
   "name": "python3"
  },
  "language_info": {
   "codemirror_mode": {
    "name": "ipython",
    "version": 3
   },
   "file_extension": ".py",
   "mimetype": "text/x-python",
   "name": "python",
   "nbconvert_exporter": "python",
   "pygments_lexer": "ipython3",
   "version": "3.5.2"
  }
 },
 "nbformat": 4,
 "nbformat_minor": 2
}
