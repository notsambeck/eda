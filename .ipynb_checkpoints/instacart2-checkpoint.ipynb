{
 "cells": [
  {
   "cell_type": "code",
   "execution_count": 1,
   "metadata": {},
   "outputs": [],
   "source": [
    "import pandas as pd\n",
    "import sqlalchemy as sql\n",
    "import matplotlib.pyplot as plt\n",
    "%matplotlib notebook\n",
    "\n",
    "from tqdm import tqdm"
   ]
  },
  {
   "cell_type": "markdown",
   "metadata": {},
   "source": [
    "# Instacart recommendations\n",
    "\n",
    "### what this is\n",
    "1. Quick look at what's in the data\n",
    "2. Checking for red flags\n",
    "3. Looking for exploitable trends in the data\n",
    "\n",
    "\n",
    "### Data Definition\n",
    "\n",
    "#### orders (415k rows): fact table, one record per order, includes useful time dimensions\n",
    "- order_id: order identifier\n",
    "- user_id: customer identifier\n",
    "- order_number: the order sequence number for this user (1 = first, n = nth)\n",
    "- order_dow: the day of the week the order was placed on\n",
    "- Order_hour_of_day: hour of day the order was placed\n",
    "- Days_since_prior_order: Number of days since that customer placed their previous order (NA for order_number = 1)\n",
    "\n",
    "#### order_products (3.9M rows): fact table, one record per order, per product\n",
    "_except for last order by a customer_\n",
    "- order_id: foreign key\n",
    "- product_id: foreign key\n",
    "- add_to_cart_order: order in which each product was added to cart\n",
    "- reordered: 1 if this product has been ordered by this user in the past, 0 otherwise\n",
    "\n",
    "#### products (50k rows): Dimension table for product info\n",
    "- product_id: product identifier\n",
    "- product_name: name of the product\n",
    "- aisle_id: foreign key\n",
    "- department_id: foreign key\n",
    "\n",
    "#### aisles (134 rows): Dimension table for aisle info\n",
    "- aisle_id: aisle identifier\n",
    "- aisle: the name of the aisle\n",
    "\n",
    "#### departments (21 rows): Dimension table for department info\n",
    "- department_id: department identifier\n",
    "- department: the name of the department\n"
   ]
  },
  {
   "cell_type": "markdown",
   "metadata": {},
   "source": [
    "# 0. Load data"
   ]
  },
  {
   "cell_type": "code",
   "execution_count": 2,
   "metadata": {},
   "outputs": [],
   "source": [
    "engine = sql.create_engine('sqlite:///instacart.db')\n",
    "db = {}"
   ]
  },
  {
   "cell_type": "code",
   "execution_count": 4,
   "metadata": {},
   "outputs": [],
   "source": [
    "for table in ['orders', 'order_products', 'products', 'aisles', 'departments',]:\n",
    "    db[table] = pd.read_sql_table(table, engine, index_col=0,)"
   ]
  },
  {
   "cell_type": "code",
   "execution_count": 5,
   "metadata": {},
   "outputs": [],
   "source": [
    "# aliases for easy typing & set index columns\n",
    "orders = db['orders']\n",
    "orders.set_index('order_id', inplace=True)\n",
    "\n",
    "ops = db['order_products']   # default index vs. multi-index on order_id + add_to_cart_order\n",
    "\n",
    "products = db['products']\n",
    "del(products['index'])       # index is one off from xxxx_id, confusing\n",
    "products.set_index('product_id', inplace=True)\n",
    "\n",
    "del(db['departments']['index'])\n",
    "db['departments'].set_index('department_id', inplace=True)\n",
    "\n",
    "del(db['aisles']['index'])\n",
    "db['aisles'].set_index('aisle_id', inplace=True)"
   ]
  },
  {
   "cell_type": "markdown",
   "metadata": {},
   "source": [
    "### Build (flat) order details table:"
   ]
  },
  {
   "cell_type": "code",
   "execution_count": 6,
   "metadata": {},
   "outputs": [
    {
     "data": {
      "text/plain": [
       "(Index(['order_id', 'product_id', 'add_to_cart_order', 'reordered'], dtype='object'),\n",
       " Index(['user_id', 'order_number', 'order_dow', 'order_hour_of_day',\n",
       "        'days_since_prior_order'],\n",
       "       dtype='object'),\n",
       " Index(['product_name', 'aisle_id', 'department_id'], dtype='object'))"
      ]
     },
     "execution_count": 6,
     "metadata": {},
     "output_type": "execute_result"
    }
   ],
   "source": [
    "ops.columns, orders.columns, products.columns"
   ]
  },
  {
   "cell_type": "code",
   "execution_count": 7,
   "metadata": {},
   "outputs": [
    {
     "data": {
      "text/html": [
       "<div>\n",
       "<style scoped>\n",
       "    .dataframe tbody tr th:only-of-type {\n",
       "        vertical-align: middle;\n",
       "    }\n",
       "\n",
       "    .dataframe tbody tr th {\n",
       "        vertical-align: top;\n",
       "    }\n",
       "\n",
       "    .dataframe thead th {\n",
       "        text-align: right;\n",
       "    }\n",
       "</style>\n",
       "<table border=\"1\" class=\"dataframe\">\n",
       "  <thead>\n",
       "    <tr style=\"text-align: right;\">\n",
       "      <th></th>\n",
       "      <th>order_id</th>\n",
       "      <th>product_id</th>\n",
       "      <th>add_to_cart_order</th>\n",
       "      <th>reordered</th>\n",
       "      <th>user_id</th>\n",
       "      <th>order_number</th>\n",
       "      <th>order_dow</th>\n",
       "      <th>order_hour_of_day</th>\n",
       "      <th>days_since_prior_order</th>\n",
       "      <th>product_name</th>\n",
       "      <th>aisle_id</th>\n",
       "      <th>department_id</th>\n",
       "    </tr>\n",
       "  </thead>\n",
       "  <tbody>\n",
       "    <tr>\n",
       "      <th>0</th>\n",
       "      <td>2</td>\n",
       "      <td>33120</td>\n",
       "      <td>1</td>\n",
       "      <td>1</td>\n",
       "      <td>202279</td>\n",
       "      <td>3</td>\n",
       "      <td>5</td>\n",
       "      <td>9</td>\n",
       "      <td>8.0</td>\n",
       "      <td>Organic Egg Whites</td>\n",
       "      <td>86</td>\n",
       "      <td>16</td>\n",
       "    </tr>\n",
       "    <tr>\n",
       "      <th>455</th>\n",
       "      <td>390</td>\n",
       "      <td>33120</td>\n",
       "      <td>28</td>\n",
       "      <td>1</td>\n",
       "      <td>166654</td>\n",
       "      <td>48</td>\n",
       "      <td>0</td>\n",
       "      <td>12</td>\n",
       "      <td>9.0</td>\n",
       "      <td>Organic Egg Whites</td>\n",
       "      <td>86</td>\n",
       "      <td>16</td>\n",
       "    </tr>\n",
       "    <tr>\n",
       "      <th>1319</th>\n",
       "      <td>1097</td>\n",
       "      <td>33120</td>\n",
       "      <td>14</td>\n",
       "      <td>1</td>\n",
       "      <td>30502</td>\n",
       "      <td>5</td>\n",
       "      <td>4</td>\n",
       "      <td>0</td>\n",
       "      <td>8.0</td>\n",
       "      <td>Organic Egg Whites</td>\n",
       "      <td>86</td>\n",
       "      <td>16</td>\n",
       "    </tr>\n",
       "    <tr>\n",
       "      <th>2201</th>\n",
       "      <td>1887</td>\n",
       "      <td>33120</td>\n",
       "      <td>6</td>\n",
       "      <td>1</td>\n",
       "      <td>25085</td>\n",
       "      <td>78</td>\n",
       "      <td>1</td>\n",
       "      <td>10</td>\n",
       "      <td>3.0</td>\n",
       "      <td>Organic Egg Whites</td>\n",
       "      <td>86</td>\n",
       "      <td>16</td>\n",
       "    </tr>\n",
       "    <tr>\n",
       "      <th>3927</th>\n",
       "      <td>3304</td>\n",
       "      <td>33120</td>\n",
       "      <td>4</td>\n",
       "      <td>1</td>\n",
       "      <td>42591</td>\n",
       "      <td>4</td>\n",
       "      <td>1</td>\n",
       "      <td>14</td>\n",
       "      <td>14.0</td>\n",
       "      <td>Organic Egg Whites</td>\n",
       "      <td>86</td>\n",
       "      <td>16</td>\n",
       "    </tr>\n",
       "  </tbody>\n",
       "</table>\n",
       "</div>"
      ],
      "text/plain": [
       "      order_id  product_id  add_to_cart_order  reordered  user_id  \\\n",
       "0            2       33120                  1          1   202279   \n",
       "455        390       33120                 28          1   166654   \n",
       "1319      1097       33120                 14          1    30502   \n",
       "2201      1887       33120                  6          1    25085   \n",
       "3927      3304       33120                  4          1    42591   \n",
       "\n",
       "      order_number  order_dow  order_hour_of_day  days_since_prior_order  \\\n",
       "0                3          5                  9                     8.0   \n",
       "455             48          0                 12                     9.0   \n",
       "1319             5          4                  0                     8.0   \n",
       "2201            78          1                 10                     3.0   \n",
       "3927             4          1                 14                    14.0   \n",
       "\n",
       "            product_name  aisle_id  department_id  \n",
       "0     Organic Egg Whites        86             16  \n",
       "455   Organic Egg Whites        86             16  \n",
       "1319  Organic Egg Whites        86             16  \n",
       "2201  Organic Egg Whites        86             16  \n",
       "3927  Organic Egg Whites        86             16  "
      ]
     },
     "execution_count": 7,
     "metadata": {},
     "output_type": "execute_result"
    }
   ],
   "source": [
    "# merge order_products with product info and order info\n",
    "\n",
    "order_details = pd.merge(ops, orders, left_on='order_id', right_index=True)\n",
    "order_details = pd.merge(order_details, products, left_on='product_id', right_index=True)\n",
    "order_details.head()"
   ]
  },
  {
   "cell_type": "markdown",
   "metadata": {},
   "source": [
    "# 1. Customers w/ few orders vs. customers w/ many orders"
   ]
  },
  {
   "cell_type": "code",
   "execution_count": 8,
   "metadata": {},
   "outputs": [],
   "source": [
    "%matplotlib inline"
   ]
  },
  {
   "cell_type": "code",
   "execution_count": 129,
   "metadata": {},
   "outputs": [
    {
     "data": {
      "image/png": "[encoded data removed]",
      "text/plain": [
       "<matplotlib.figure.Figure at 0x7f744f8f2048>"
      ]
     },
     "metadata": {},
     "output_type": "display_data"
    }
   ],
   "source": [
    "# all orders\n",
    "\n",
    "fig, ax = plt.subplots()\n",
    "\n",
    "dept_sales = order_details.groupby('department_id').product_id.size()\n",
    "ax = dept_sales.plot.pie(y='department_id', legend=False, labels=db['departments'].department)\n",
    "ax.set_ylabel('')\n",
    "ax.set_title('all orders')\n",
    "fig.set_size_inches(6, 6)\n",
    "plt.show()"
   ]
  },
  {
   "cell_type": "code",
   "execution_count": 121,
   "metadata": {},
   "outputs": [],
   "source": [
    "# highest order number for each user_id\n",
    "num_orders = orders.groupby('user_id')['order_number'].max()\n",
    "num_orders.name = 'total_orders_by_cust'"
   ]
  },
  {
   "cell_type": "code",
   "execution_count": 123,
   "metadata": {},
   "outputs": [],
   "source": [
    "order_details = pd.merge(order_details, pd.DataFrame(num_orders), left_on='user_id', right_index=True)"
   ]
  },
  {
   "cell_type": "code",
   "execution_count": 210,
   "metadata": {},
   "outputs": [
    {
     "data": {
      "image/png": "[encoded data removed]",
      "text/plain": [
       "<matplotlib.figure.Figure at 0x7f744ff6e7f0>"
      ]
     },
     "metadata": {},
     "output_type": "display_data"
    }
   ],
   "source": [
    "# early orders from long-term customers only ( > 10 orders)\n",
    "\n",
    "fig, ax = plt.subplots(ncols=2)\n",
    "fig.set_size_inches(14, 7)\n",
    "\n",
    "ax[0].hist(order_details[(order_details.total_orders_by_cust > 10) & (order_details.order_number < 5)].groupby('order_id').size(), bins=range(80))\n",
    "ax[0].set_title('Order size: long-term')\n",
    "\n",
    "ax[1] = (order_details[(order_details.total_orders_by_cust > 10) & (order_details.order_number < 5)]\n",
    "         .groupby('department_id').size()\n",
    "         .plot.pie(y='department_id',\n",
    "                   legend=False,\n",
    "                   labels=db['departments'].department))\n",
    "ax[1].set_ylabel('')\n",
    "ax[1].set_title('Number of items by department')\n",
    "\n",
    "plt.show()"
   ]
  },
  {
   "cell_type": "code",
   "execution_count": 223,
   "metadata": {},
   "outputs": [
    {
     "data": {
      "image/png": "[encoded data removed]",
      "text/plain": [
       "<matplotlib.figure.Figure at 0x7f744ffcac88>"
      ]
     },
     "metadata": {},
     "output_type": "display_data"
    }
   ],
   "source": [
    "# early orders from short-term customers only (4 orders)\n",
    "\n",
    "fig, ax = plt.subplots(ncols=2)\n",
    "fig.set_size_inches(14, 7)\n",
    "\n",
    "ax[0].hist(order_details[(order_details.total_orders_by_cust < 5) & (order_details.order_number < 5)].groupby('order_id').size(), bins=range(80))\n",
    "ax[0].set_title('Order size: short term')\n",
    "\n",
    "ax[1] = (order_details[(order_details.total_orders_by_cust < 5) & (order_details.order_number < 5)]\n",
    "         .groupby('department_id').size()\n",
    "         .plot.pie(y='department_id',\n",
    "                   legend=False,\n",
    "                   labels=db['departments'].department))\n",
    "ax[1].set_ylabel('')\n",
    "ax[1].set_title('Number of items by department')\n",
    "\n",
    "plt.show()"
   ]
  },
  {
   "cell_type": "code",
   "execution_count": 237,
   "metadata": {},
   "outputs": [
    {
     "name": "stdout",
     "output_type": "stream",
     "text": [
      "     % small first orders for short-term customers: 0.148500\n",
      "number small first orders for short-term customers: 1312\n",
      "    % small first orders for long-term customers:  0.104965\n",
      "number small first orders for long-term customers: 5150\n"
     ]
    }
   ],
   "source": [
    "# there is a correlation between small initial orders and churn; what would the value of this be?\n",
    "\n",
    "cutoff = 3\n",
    "short = order_details[(order_details.total_orders_by_cust < 5) & \n",
    "                      (order_details.order_number < 5)].groupby('order_id').size()\n",
    "long = order_details[(order_details.total_orders_by_cust > 10) & \n",
    "                     (order_details.order_number < 5)].groupby('order_id').size()\n",
    "\n",
    "small_orders = 0\n",
    "for order in short:\n",
    "    if order < cutoff:\n",
    "        small_orders += 1\n",
    "        \n",
    "print('     % small first orders for short-term customers: {:f}'.format(small_orders/len(short)))\n",
    "print('number small first orders for short-term customers: {}'.format(small_orders))\n",
    "\n",
    "\n",
    "small_orders = 0\n",
    "for order in long:\n",
    "    if order < cutoff:\n",
    "        small_orders += 1\n",
    "        \n",
    "print('    % small first orders for long-term customers:  {:f}'.format(small_orders/len(long)))\n",
    "print('number small first orders for long-term customers: {}'.format(small_orders))\n"
   ]
  },
  {
   "cell_type": "markdown",
   "metadata": {},
   "source": [
    "# Conclusion 1:\n",
    "\n",
    "Customers who have very small initial orders are more likely to stop using Instacart.\n",
    "\n",
    "However, among users with very small initial orders, many will still continue using the servoce. This group is not specific enough to be purely  to addressing this group. And overall, the distribution of products purchased by short-term users is very similar to that of long-term users.\n",
    "\n",
    "Potential intervention:\n",
    "Offer discounts to users with small order sizes to incentivize increasing how much they buy.\n",
    "e.g. for a user with 4 items in cart: \n",
    "### Add one more unique item, get 10% off today's purchase!"
   ]
  },
  {
   "cell_type": "code",
   "execution_count": null,
   "metadata": {},
   "outputs": [],
   "source": [
    "fig, ax = plt.subplots()\n",
    "\n",
    "aisle_sales = order_details.groupby('aisle_id').size().sort_values()\n",
    "ax = aisle_sales.plot.pie(y='aisle_id', legend=False)\n",
    "ax.set_ylabel('')\n",
    "fig.set_size_inches(6, 6)\n",
    "\n",
    "for i in range(12):\n",
    "    which = aisle_sales.index[-1-i]\n",
    "    print('{} = {}'.format(which, db['aisles'].aisle.loc[which]))"
   ]
  },
  {
   "cell_type": "code",
   "execution_count": null,
   "metadata": {},
   "outputs": [],
   "source": [
    "ax = ops.groupby('order_id').size().plot.hist(bins=102)\n",
    "ax.set_xlabel('order size (items)')\n",
    "ax.set_title('Distribution of order sizes')\n",
    "plt"
   ]
  },
  {
   "cell_type": "markdown",
   "metadata": {},
   "source": [
    "# distribution of popular products\n",
    "\n",
    "percent of orders made up by top products"
   ]
  },
  {
   "cell_type": "code",
   "execution_count": null,
   "metadata": {},
   "outputs": [],
   "source": [
    "ax = ops.groupby('product_id').size().plot.hist(bins=100)\n",
    "ax.set_xlabel('Sales of product')\n",
    "ax.set_title('Number of orders for product')\n",
    "plt.show()"
   ]
  },
  {
   "cell_type": "code",
   "execution_count": null,
   "metadata": {},
   "outputs": [],
   "source": [
    "sum(order_details.product_id.value_counts()[:10]) / len(ops) \n",
    "# top 10 (of 50k) products: % of order items"
   ]
  },
  {
   "cell_type": "code",
   "execution_count": null,
   "metadata": {},
   "outputs": [],
   "source": [
    "sum(order_details.product_id.value_counts()[:100]) / len(ops) \n",
    "# top 100 (of 50k) products: % of order items"
   ]
  },
  {
   "cell_type": "code",
   "execution_count": null,
   "metadata": {},
   "outputs": [],
   "source": [
    "sum(order_details.product_id.value_counts()[:1000]) / len(ops) \n",
    "# top 1000 (of 50k) products: % of order items"
   ]
  },
  {
   "cell_type": "code",
   "execution_count": null,
   "metadata": {},
   "outputs": [],
   "source": [
    "sum(order_details.product_id.value_counts()[:10000]) / len(ops) \n",
    "# top 20% (of 50k) products: % of order items"
   ]
  },
  {
   "cell_type": "markdown",
   "metadata": {},
   "source": [
    "# What percent of orders for a product are reorders?\n",
    "\n",
    "If a product is never reordered or negatively affects customer retrention, this is a problem (that is easy to solve)."
   ]
  },
  {
   "cell_type": "code",
   "execution_count": null,
   "metadata": {},
   "outputs": [],
   "source": [
    "tmp = pd.DataFrame({'reorder_pct': ops.groupby('product_id').reordered.mean(),\n",
    "                    'num_orders': order_details.groupby('product_id').size()})"
   ]
  },
  {
   "cell_type": "code",
   "execution_count": null,
   "metadata": {},
   "outputs": [],
   "source": [
    "order_details = pd.merge(order_details, tmp, left_on='product_id', right_index=True)"
   ]
  },
  {
   "cell_type": "code",
   "execution_count": null,
   "metadata": {},
   "outputs": [],
   "source": [
    "# plot percentage reorders by department\n",
    "fig, ax = plt.subplots()\n",
    "dept_id = 4\n",
    "\n",
    "print(db['departments'].loc[dept_id])\n",
    "\n",
    "fig.set_size_inches(9,4)\n",
    "ax.scatter(order_details.groupby('product_id').size(), \n",
    "           order_details.groupby('product_id').reorder_pct.mean(),\n",
    "           s=2,\n",
    "           alpha=.2,)\n",
    "\n",
    "ax.scatter(order_details[order_details.department_id == 4].groupby('product_id').size(), \n",
    "           order_details[order_details.department_id == 4].groupby('product_id').reorder_pct.mean(),\n",
    "           s=1,\n",
    "           color='red',\n",
    "           alpha=.3,)\n",
    "\n",
    "ax.set_xlabel('# orders')\n",
    "ax.set_ylabel('% reorders')\n",
    "ax.set_title('Products: % of orders that are reorders')\n",
    "plt.show()"
   ]
  },
  {
   "cell_type": "markdown",
   "metadata": {},
   "source": [
    "# What is the outlier below mass of data points? x ~= 6300\n",
    "\n",
    "It is... olive oil. Seems reasonable"
   ]
  },
  {
   "cell_type": "code",
   "execution_count": null,
   "metadata": {},
   "outputs": [],
   "source": [
    "products = pd.merge(products, tmp, left_index=True, right_index=True)  # add reorder/num_orders to products table"
   ]
  },
  {
   "cell_type": "code",
   "execution_count": null,
   "metadata": {},
   "outputs": [],
   "source": [
    "products[products.num_orders < 6500].sort_values('num_orders', ascending=False)[:10]"
   ]
  },
  {
   "cell_type": "code",
   "execution_count": null,
   "metadata": {},
   "outputs": [],
   "source": [
    "products[products.product_name.str.lower().str.contains('olive oil')].__len__()"
   ]
  },
  {
   "cell_type": "markdown",
   "metadata": {},
   "source": [
    "# User information\n",
    "\n",
    "Compile some stats about users from order info. Trend of user # of orders vs. size of orders is fairly flat (trends toward center). Not surprising in retrospect."
   ]
  },
  {
   "cell_type": "code",
   "execution_count": null,
   "metadata": {},
   "outputs": [],
   "source": [
    "users = pd.DataFrame({'num_orders': orders.groupby('user_id').size()})\n",
    "len(users)"
   ]
  },
  {
   "cell_type": "code",
   "execution_count": null,
   "metadata": {},
   "outputs": [],
   "source": [
    "users['total_products_ordered'] = order_details.groupby('user_id').size()  # total products ordered by user"
   ]
  },
  {
   "cell_type": "code",
   "execution_count": null,
   "metadata": {},
   "outputs": [],
   "source": [
    "users['mean_order_size'] = users.total_products_ordered / users.num_orders"
   ]
  },
  {
   "cell_type": "code",
   "execution_count": null,
   "metadata": {},
   "outputs": [],
   "source": [
    "fig, ax = plt.subplots()\n",
    "fig.set_size_inches(10, 10)\n",
    "\n",
    "ax.scatter(x=users.num_orders, y=users.mean_order_size, s=3, alpha=.1)\n",
    "ax.set_xlabel('user orders')\n",
    "ax.set_ylabel('mean order size')\n",
    "ax.set_title('User # orders vs. order size')\n",
    "plt.show()"
   ]
  },
  {
   "cell_type": "markdown",
   "metadata": {},
   "source": [
    "# Time"
   ]
  },
  {
   "cell_type": "code",
   "execution_count": null,
   "metadata": {},
   "outputs": [],
   "source": [
    "ax = orders.groupby('order_dow').size().plot()\n",
    "ax.set_ybound(0)\n",
    "ax.set_ylabel('Number of orders')\n",
    "ax.set_xlabel('Day of week')\n",
    "plt.show()"
   ]
  },
  {
   "cell_type": "code",
   "execution_count": null,
   "metadata": {},
   "outputs": [],
   "source": [
    "ax = orders.groupby(['order_dow', 'order_hour_of_day']).size().plot()\n",
    "ax.set_ybound(0)\n",
    "ax.set_ylabel('Number of orders')\n",
    "ax.set_xlabel('Day of week (broken down by hour)')\n",
    "ax.set_xticks([24 * i for i in range(8)])\n",
    "ax.set_xticklabels(range(8))\n",
    "plt.show()"
   ]
  },
  {
   "cell_type": "code",
   "execution_count": null,
   "metadata": {},
   "outputs": [],
   "source": [
    "ax = (orders[orders.order_dow == 0].groupby('order_hour_of_day').size()).plot(label='sat')\n",
    "ax = (orders[orders.order_dow == 1].groupby('order_hour_of_day').size()).plot(label='sun')\n",
    "ax.set_ylabel('Number of orders')\n",
    "ax.set_xlabel('hour')\n",
    "\n",
    "ax = (orders[orders.order_dow.isin([2,3,4,5,6])].groupby('order_hour_of_day').size()/5).plot(label='weekdays')\n",
    "ax.set_ybound(0)\n",
    "ax.legend()\n",
    "plt.show()"
   ]
  },
  {
   "cell_type": "markdown",
   "metadata": {},
   "source": [
    "### Interesting features of time distribution: \n",
    "\n",
    "- weekday lunch trough\n",
    "- first two days must be Sat/Sun? 5 vs. 2\n",
    "\n",
    "# product time groups:\n",
    "\n",
    "Do products vary significantly in terms of:\n",
    "- order time\n",
    "- cart add order\n",
    "\n",
    "\n",
    "Make a column for cart add order: order_position_pct"
   ]
  },
  {
   "cell_type": "code",
   "execution_count": null,
   "metadata": {},
   "outputs": [],
   "source": [
    "tmp = pd.DataFrame({'order_size': order_details.groupby('order_id').size()})   # number of items in an order"
   ]
  },
  {
   "cell_type": "code",
   "execution_count": null,
   "metadata": {},
   "outputs": [],
   "source": [
    "order_details = pd.merge(order_details, tmp, left_on='order_id', right_index=True)"
   ]
  },
  {
   "cell_type": "code",
   "execution_count": null,
   "metadata": {},
   "outputs": [],
   "source": [
    "order_details['order_position_pct'] = order_details.add_to_cart_order / order_details.order_size"
   ]
  },
  {
   "cell_type": "code",
   "execution_count": null,
   "metadata": {},
   "outputs": [],
   "source": [
    "order_details.head()"
   ]
  },
  {
   "cell_type": "code",
   "execution_count": null,
   "metadata": {},
   "outputs": [],
   "source": [
    "cart_adds = order_details[order_details.num_orders >= 1000].groupby('product_id')['order_position_pct'].mean().sort_values()\n",
    "cart_adds[:10]"
   ]
  },
  {
   "cell_type": "code",
   "execution_count": null,
   "metadata": {},
   "outputs": [],
   "source": [
    "products.loc[cart_adds.index[-10:].values]   # 10 latest-added products"
   ]
  },
  {
   "cell_type": "code",
   "execution_count": null,
   "metadata": {},
   "outputs": [],
   "source": [
    "# plot cart order add position by dept\n",
    "fig, ax = plt.subplots()\n",
    "dept_id = 11\n",
    "\n",
    "\n",
    "fig.set_size_inches(9,4)\n",
    "\n",
    "for i in range(1, 6):\n",
    "    l = db['departments'].loc[i]\n",
    "    hf = order_details[order_details.department_id == i].groupby('product_id')['order_position_pct'].mean()\n",
    "    ax.hist(hf,\n",
    "            alpha=.5,\n",
    "            bins=100,\n",
    "            label=l,)\n",
    "\n",
    "ax.set_xlabel('position added to cart: first -> last')\n",
    "ax.set_ylabel('freq')\n",
    "ax.set_title('Products: position added to cart')\n",
    "plt.legend()\n",
    "plt.show()"
   ]
  },
  {
   "cell_type": "code",
   "execution_count": null,
   "metadata": {
    "scrolled": true
   },
   "outputs": [],
   "source": [
    "# plot cart order add position by dept\n",
    "fig, ax = plt.subplots()\n",
    "dept_id = 11\n",
    "\n",
    "\n",
    "fig.set_size_inches(9,4)\n",
    "\n",
    "for i in range(6, 11):\n",
    "    l = db['departments'].loc[i]\n",
    "    hf = order_details[order_details.department_id == i].groupby('product_id')['order_position_pct'].mean()\n",
    "    ax.hist(hf,\n",
    "            alpha=.5,\n",
    "            bins=100,\n",
    "            label=l,)\n",
    "\n",
    "ax.set_xlabel('position added to cart: first -> last')\n",
    "ax.set_ylabel('freq')\n",
    "ax.set_title('Products: position added to cart')\n",
    "plt.legend()\n",
    "plt.show()"
   ]
  },
  {
   "cell_type": "markdown",
   "metadata": {},
   "source": [
    "# lesson of cart_add_order: \n",
    "\n",
    "People put junk food, booze, etc. in their cart at the end. If we know/suspect a shopper is almost done shopping, it could be an opportunity to add on guilty-pleasure type products.\n",
    "\n",
    "# opposite: what products get added first?"
   ]
  },
  {
   "cell_type": "code",
   "execution_count": null,
   "metadata": {},
   "outputs": [],
   "source": [
    "products.loc[cart_adds.index[:10].values]   # 10 first added products"
   ]
  },
  {
   "cell_type": "code",
   "execution_count": null,
   "metadata": {},
   "outputs": [],
   "source": [
    "order_details = pd.merge(order_details, \n",
    "                pd.DataFrame({'times_added_first': order_details[order_details.add_to_cart_order == 1].groupby('product_id').size()}),\n",
    "                right_index=True,\n",
    "                left_on='product_id')"
   ]
  },
  {
   "cell_type": "code",
   "execution_count": null,
   "metadata": {},
   "outputs": [],
   "source": [
    "order_details['pct_added_first'] = order_details.times_added_first / order_details.num_orders"
   ]
  },
  {
   "cell_type": "markdown",
   "metadata": {},
   "source": [
    "# Reorder time series"
   ]
  },
  {
   "cell_type": "code",
   "execution_count": null,
   "metadata": {
    "scrolled": false
   },
   "outputs": [],
   "source": [
    "fig, ax = plt.subplots()\n",
    "fig.set_size_inches(12, 12)\n",
    "\n",
    "for i in range(1, 11):\n",
    "    series = order_details[order_details.department_id == i].groupby('days_since_prior_order').size()\n",
    "    (series/series.max()).plot(label=db['departments'].department.loc[i])\n",
    "\n",
    "ax.legend()"
   ]
  },
  {
   "cell_type": "code",
   "execution_count": null,
   "metadata": {
    "scrolled": false
   },
   "outputs": [],
   "source": [
    "fig, ax = plt.subplots()\n",
    "fig.set_size_inches(12, 12)\n",
    "\n",
    "for i in range(1, 11):\n",
    "    series = order_details[order_details.department_id == i].groupby('order_hour_of_day').size()\n",
    "    (series/series.max()).plot(label=db['departments'].department.loc[i])\n",
    "\n",
    "ax.legend()"
   ]
  },
  {
   "cell_type": "code",
   "execution_count": null,
   "metadata": {},
   "outputs": [],
   "source": [
    "order_details.groupby('aisle_id')['order_hour_of_day'].mean().sort_values()[:5]"
   ]
  },
  {
   "cell_type": "code",
   "execution_count": null,
   "metadata": {
    "scrolled": false
   },
   "outputs": [],
   "source": [
    "fig, ax = plt.subplots()\n",
    "fig.set_size_inches(12, 12)\n",
    "\n",
    "for i in [125, 46, 32, 94, 11, 119, 40, 76, 103, 37]:\n",
    "    series = order_details[order_details.aisle_id == i].groupby('order_hour_of_day').size()\n",
    "    (series/series.max()).plot(label=db['aisles'].aisle.loc[i])\n",
    "\n",
    "ax.legend()\n",
    "plt.show()\n",
    "# earliest vs. latest product"
   ]
  },
  {
   "cell_type": "code",
   "execution_count": null,
   "metadata": {},
   "outputs": [],
   "source": []
  }
 ],
 "metadata": {
  "kernelspec": {
   "display_name": "Python 3",
   "language": "python",
   "name": "python3"
  },
  "language_info": {
   "codemirror_mode": {
    "name": "ipython",
    "version": 3
   },
   "file_extension": ".py",
   "mimetype": "text/x-python",
   "name": "python",
   "nbconvert_exporter": "python",
   "pygments_lexer": "ipython3",
   "version": "3.5.2"
  }
 },
 "nbformat": 4,
 "nbformat_minor": 2
}
